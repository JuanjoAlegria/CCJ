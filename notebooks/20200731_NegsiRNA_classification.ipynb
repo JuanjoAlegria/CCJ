{
 "cells": [
  {
   "cell_type": "code",
   "execution_count": 73,
   "metadata": {},
   "outputs": [],
   "source": [
    "import numpy as np\n",
    "import pandas as pd\n",
    "import seaborn as sns\n",
    "from sklearn import svm\n",
    "from sklearn.metrics import confusion_matrix\n",
    "from sklearn.metrics import classification_report\n",
    "from sklearn.model_selection import train_test_split"
   ]
  },
  {
   "cell_type": "code",
   "execution_count": 74,
   "metadata": {},
   "outputs": [],
   "source": [
    "negsi_features_path = '../results/NegsiRNA_features.csv'\n",
    "df_negsi = pd.read_csv(negsi_features_path, index_col=0)"
   ]
  },
  {
   "cell_type": "code",
   "execution_count": 75,
   "metadata": {},
   "outputs": [],
   "source": [
    "df_ml = df_negsi.copy().fillna(0)\n",
    "labels = {'NS': 0, 'NO': 1, 'CA': 2}\n",
    "df_ml['label'] = df_ml.index.map(lambda x: labels[x[-2:]])"
   ]
  },
  {
   "cell_type": "code",
   "execution_count": 76,
   "metadata": {},
   "outputs": [
    {
     "data": {
      "text/html": [
       "<div>\n",
       "<style scoped>\n",
       "    .dataframe tbody tr th:only-of-type {\n",
       "        vertical-align: middle;\n",
       "    }\n",
       "\n",
       "    .dataframe tbody tr th {\n",
       "        vertical-align: top;\n",
       "    }\n",
       "\n",
       "    .dataframe thead th {\n",
       "        text-align: right;\n",
       "    }\n",
       "</style>\n",
       "<table border=\"1\" class=\"dataframe\">\n",
       "  <thead>\n",
       "    <tr style=\"text-align: right;\">\n",
       "      <th></th>\n",
       "      <th>cell_area_ratio</th>\n",
       "      <th>white_area_ratio</th>\n",
       "      <th>e2e_n</th>\n",
       "      <th>e2e_distance_mean</th>\n",
       "      <th>e2e_distance_std</th>\n",
       "      <th>e2e_eu_distance_mean</th>\n",
       "      <th>e2e_eu_distance_std</th>\n",
       "      <th>e2e_distance_ratio_mean</th>\n",
       "      <th>e2e_distance_ratio_std</th>\n",
       "      <th>j2e_n</th>\n",
       "      <th>...</th>\n",
       "      <th>j2j_distance_std</th>\n",
       "      <th>j2j_eu_distance_mean</th>\n",
       "      <th>j2j_eu_distance_std</th>\n",
       "      <th>j2j_distance_ratio_mean</th>\n",
       "      <th>j2j_distance_ratio_std</th>\n",
       "      <th>nodes_n</th>\n",
       "      <th>nodes_max</th>\n",
       "      <th>nodes_mean</th>\n",
       "      <th>nodes_std</th>\n",
       "      <th>label</th>\n",
       "    </tr>\n",
       "  </thead>\n",
       "  <tbody>\n",
       "    <tr>\n",
       "      <th>NegsiRNA_C3c_CA</th>\n",
       "      <td>0.733850</td>\n",
       "      <td>0.461239</td>\n",
       "      <td>2</td>\n",
       "      <td>2.828427</td>\n",
       "      <td>0.000000</td>\n",
       "      <td>2.828427</td>\n",
       "      <td>0.000000</td>\n",
       "      <td>1.000000</td>\n",
       "      <td>0.000000</td>\n",
       "      <td>213</td>\n",
       "      <td>...</td>\n",
       "      <td>55.838049</td>\n",
       "      <td>64.151842</td>\n",
       "      <td>51.039731</td>\n",
       "      <td>0.928818</td>\n",
       "      <td>0.035266</td>\n",
       "      <td>1156</td>\n",
       "      <td>6</td>\n",
       "      <td>3.132353</td>\n",
       "      <td>0.368235</td>\n",
       "      <td>2</td>\n",
       "    </tr>\n",
       "    <tr>\n",
       "      <th>NegsiRNA_C3b_CA</th>\n",
       "      <td>0.581828</td>\n",
       "      <td>0.913848</td>\n",
       "      <td>10</td>\n",
       "      <td>2.065685</td>\n",
       "      <td>1.209126</td>\n",
       "      <td>2.047871</td>\n",
       "      <td>1.204724</td>\n",
       "      <td>0.992621</td>\n",
       "      <td>0.023335</td>\n",
       "      <td>304</td>\n",
       "      <td>...</td>\n",
       "      <td>35.628550</td>\n",
       "      <td>51.255141</td>\n",
       "      <td>32.524791</td>\n",
       "      <td>0.935073</td>\n",
       "      <td>0.032228</td>\n",
       "      <td>1830</td>\n",
       "      <td>5</td>\n",
       "      <td>3.121311</td>\n",
       "      <td>0.333116</td>\n",
       "      <td>2</td>\n",
       "    </tr>\n",
       "    <tr>\n",
       "      <th>NegsiRNA_E3_NO</th>\n",
       "      <td>0.583298</td>\n",
       "      <td>0.893483</td>\n",
       "      <td>0</td>\n",
       "      <td>0.000000</td>\n",
       "      <td>0.000000</td>\n",
       "      <td>0.000000</td>\n",
       "      <td>0.000000</td>\n",
       "      <td>0.000000</td>\n",
       "      <td>0.000000</td>\n",
       "      <td>446</td>\n",
       "      <td>...</td>\n",
       "      <td>35.494122</td>\n",
       "      <td>44.475891</td>\n",
       "      <td>32.458687</td>\n",
       "      <td>0.933285</td>\n",
       "      <td>0.033524</td>\n",
       "      <td>2187</td>\n",
       "      <td>5</td>\n",
       "      <td>3.139918</td>\n",
       "      <td>0.358568</td>\n",
       "      <td>1</td>\n",
       "    </tr>\n",
       "    <tr>\n",
       "      <th>NegsiRNA_L2_NS</th>\n",
       "      <td>0.690188</td>\n",
       "      <td>0.566952</td>\n",
       "      <td>4</td>\n",
       "      <td>9.224874</td>\n",
       "      <td>15.898662</td>\n",
       "      <td>8.743313</td>\n",
       "      <td>14.935617</td>\n",
       "      <td>0.985439</td>\n",
       "      <td>0.029123</td>\n",
       "      <td>367</td>\n",
       "      <td>...</td>\n",
       "      <td>46.097159</td>\n",
       "      <td>48.457418</td>\n",
       "      <td>41.626902</td>\n",
       "      <td>0.927437</td>\n",
       "      <td>0.041164</td>\n",
       "      <td>1639</td>\n",
       "      <td>5</td>\n",
       "      <td>3.153752</td>\n",
       "      <td>0.372363</td>\n",
       "      <td>0</td>\n",
       "    </tr>\n",
       "    <tr>\n",
       "      <th>NegsiRNA_L1_CA</th>\n",
       "      <td>0.623830</td>\n",
       "      <td>0.842740</td>\n",
       "      <td>2</td>\n",
       "      <td>15.207107</td>\n",
       "      <td>15.849242</td>\n",
       "      <td>15.009612</td>\n",
       "      <td>15.569942</td>\n",
       "      <td>0.992523</td>\n",
       "      <td>0.010574</td>\n",
       "      <td>281</td>\n",
       "      <td>...</td>\n",
       "      <td>34.425614</td>\n",
       "      <td>52.494589</td>\n",
       "      <td>31.461633</td>\n",
       "      <td>0.933604</td>\n",
       "      <td>0.033201</td>\n",
       "      <td>1913</td>\n",
       "      <td>5</td>\n",
       "      <td>3.125457</td>\n",
       "      <td>0.340574</td>\n",
       "      <td>2</td>\n",
       "    </tr>\n",
       "    <tr>\n",
       "      <th>...</th>\n",
       "      <td>...</td>\n",
       "      <td>...</td>\n",
       "      <td>...</td>\n",
       "      <td>...</td>\n",
       "      <td>...</td>\n",
       "      <td>...</td>\n",
       "      <td>...</td>\n",
       "      <td>...</td>\n",
       "      <td>...</td>\n",
       "      <td>...</td>\n",
       "      <td>...</td>\n",
       "      <td>...</td>\n",
       "      <td>...</td>\n",
       "      <td>...</td>\n",
       "      <td>...</td>\n",
       "      <td>...</td>\n",
       "      <td>...</td>\n",
       "      <td>...</td>\n",
       "      <td>...</td>\n",
       "      <td>...</td>\n",
       "      <td>...</td>\n",
       "    </tr>\n",
       "    <tr>\n",
       "      <th>NegsiRNA_H2_CA</th>\n",
       "      <td>0.689017</td>\n",
       "      <td>0.747116</td>\n",
       "      <td>3</td>\n",
       "      <td>10.299832</td>\n",
       "      <td>14.899824</td>\n",
       "      <td>9.001932</td>\n",
       "      <td>12.804211</td>\n",
       "      <td>0.930342</td>\n",
       "      <td>0.067686</td>\n",
       "      <td>291</td>\n",
       "      <td>...</td>\n",
       "      <td>33.954309</td>\n",
       "      <td>50.942437</td>\n",
       "      <td>31.187113</td>\n",
       "      <td>0.932444</td>\n",
       "      <td>0.033376</td>\n",
       "      <td>2034</td>\n",
       "      <td>5</td>\n",
       "      <td>3.140118</td>\n",
       "      <td>0.351333</td>\n",
       "      <td>2</td>\n",
       "    </tr>\n",
       "    <tr>\n",
       "      <th>NegsiRNA_I3_NO</th>\n",
       "      <td>0.590003</td>\n",
       "      <td>0.861740</td>\n",
       "      <td>2</td>\n",
       "      <td>2.500000</td>\n",
       "      <td>2.121320</td>\n",
       "      <td>2.500000</td>\n",
       "      <td>2.121320</td>\n",
       "      <td>1.000000</td>\n",
       "      <td>0.000000</td>\n",
       "      <td>386</td>\n",
       "      <td>...</td>\n",
       "      <td>37.953111</td>\n",
       "      <td>47.953077</td>\n",
       "      <td>34.082777</td>\n",
       "      <td>0.929160</td>\n",
       "      <td>0.037500</td>\n",
       "      <td>1813</td>\n",
       "      <td>5</td>\n",
       "      <td>3.128516</td>\n",
       "      <td>0.339572</td>\n",
       "      <td>1</td>\n",
       "    </tr>\n",
       "    <tr>\n",
       "      <th>NegsiRNA_I2_CA</th>\n",
       "      <td>0.600133</td>\n",
       "      <td>0.941587</td>\n",
       "      <td>0</td>\n",
       "      <td>0.000000</td>\n",
       "      <td>0.000000</td>\n",
       "      <td>0.000000</td>\n",
       "      <td>0.000000</td>\n",
       "      <td>0.000000</td>\n",
       "      <td>0.000000</td>\n",
       "      <td>507</td>\n",
       "      <td>...</td>\n",
       "      <td>32.399391</td>\n",
       "      <td>39.080209</td>\n",
       "      <td>29.337301</td>\n",
       "      <td>0.930631</td>\n",
       "      <td>0.049304</td>\n",
       "      <td>3025</td>\n",
       "      <td>6</td>\n",
       "      <td>3.161653</td>\n",
       "      <td>0.385674</td>\n",
       "      <td>2</td>\n",
       "    </tr>\n",
       "    <tr>\n",
       "      <th>NegsiRNA_H3_NS</th>\n",
       "      <td>0.608080</td>\n",
       "      <td>0.862938</td>\n",
       "      <td>5</td>\n",
       "      <td>10.028427</td>\n",
       "      <td>20.188177</td>\n",
       "      <td>9.434813</td>\n",
       "      <td>18.860816</td>\n",
       "      <td>0.987135</td>\n",
       "      <td>0.028767</td>\n",
       "      <td>288</td>\n",
       "      <td>...</td>\n",
       "      <td>39.278796</td>\n",
       "      <td>54.938723</td>\n",
       "      <td>35.721261</td>\n",
       "      <td>0.932738</td>\n",
       "      <td>0.034584</td>\n",
       "      <td>1564</td>\n",
       "      <td>5</td>\n",
       "      <td>3.116368</td>\n",
       "      <td>0.322654</td>\n",
       "      <td>0</td>\n",
       "    </tr>\n",
       "    <tr>\n",
       "      <th>NegsiRNA_E3_CA</th>\n",
       "      <td>0.610193</td>\n",
       "      <td>0.820221</td>\n",
       "      <td>0</td>\n",
       "      <td>0.000000</td>\n",
       "      <td>0.000000</td>\n",
       "      <td>0.000000</td>\n",
       "      <td>0.000000</td>\n",
       "      <td>0.000000</td>\n",
       "      <td>0.000000</td>\n",
       "      <td>325</td>\n",
       "      <td>...</td>\n",
       "      <td>41.027360</td>\n",
       "      <td>52.046245</td>\n",
       "      <td>37.338348</td>\n",
       "      <td>0.932708</td>\n",
       "      <td>0.032751</td>\n",
       "      <td>1777</td>\n",
       "      <td>5</td>\n",
       "      <td>3.128306</td>\n",
       "      <td>0.337779</td>\n",
       "      <td>2</td>\n",
       "    </tr>\n",
       "  </tbody>\n",
       "</table>\n",
       "<p>102 rows × 28 columns</p>\n",
       "</div>"
      ],
      "text/plain": [
       "                 cell_area_ratio  white_area_ratio  e2e_n  e2e_distance_mean  \\\n",
       "NegsiRNA_C3c_CA         0.733850          0.461239      2           2.828427   \n",
       "NegsiRNA_C3b_CA         0.581828          0.913848     10           2.065685   \n",
       "NegsiRNA_E3_NO          0.583298          0.893483      0           0.000000   \n",
       "NegsiRNA_L2_NS          0.690188          0.566952      4           9.224874   \n",
       "NegsiRNA_L1_CA          0.623830          0.842740      2          15.207107   \n",
       "...                          ...               ...    ...                ...   \n",
       "NegsiRNA_H2_CA          0.689017          0.747116      3          10.299832   \n",
       "NegsiRNA_I3_NO          0.590003          0.861740      2           2.500000   \n",
       "NegsiRNA_I2_CA          0.600133          0.941587      0           0.000000   \n",
       "NegsiRNA_H3_NS          0.608080          0.862938      5          10.028427   \n",
       "NegsiRNA_E3_CA          0.610193          0.820221      0           0.000000   \n",
       "\n",
       "                 e2e_distance_std  e2e_eu_distance_mean  e2e_eu_distance_std  \\\n",
       "NegsiRNA_C3c_CA          0.000000              2.828427             0.000000   \n",
       "NegsiRNA_C3b_CA          1.209126              2.047871             1.204724   \n",
       "NegsiRNA_E3_NO           0.000000              0.000000             0.000000   \n",
       "NegsiRNA_L2_NS          15.898662              8.743313            14.935617   \n",
       "NegsiRNA_L1_CA          15.849242             15.009612            15.569942   \n",
       "...                           ...                   ...                  ...   \n",
       "NegsiRNA_H2_CA          14.899824              9.001932            12.804211   \n",
       "NegsiRNA_I3_NO           2.121320              2.500000             2.121320   \n",
       "NegsiRNA_I2_CA           0.000000              0.000000             0.000000   \n",
       "NegsiRNA_H3_NS          20.188177              9.434813            18.860816   \n",
       "NegsiRNA_E3_CA           0.000000              0.000000             0.000000   \n",
       "\n",
       "                 e2e_distance_ratio_mean  e2e_distance_ratio_std  j2e_n  ...  \\\n",
       "NegsiRNA_C3c_CA                 1.000000                0.000000    213  ...   \n",
       "NegsiRNA_C3b_CA                 0.992621                0.023335    304  ...   \n",
       "NegsiRNA_E3_NO                  0.000000                0.000000    446  ...   \n",
       "NegsiRNA_L2_NS                  0.985439                0.029123    367  ...   \n",
       "NegsiRNA_L1_CA                  0.992523                0.010574    281  ...   \n",
       "...                                  ...                     ...    ...  ...   \n",
       "NegsiRNA_H2_CA                  0.930342                0.067686    291  ...   \n",
       "NegsiRNA_I3_NO                  1.000000                0.000000    386  ...   \n",
       "NegsiRNA_I2_CA                  0.000000                0.000000    507  ...   \n",
       "NegsiRNA_H3_NS                  0.987135                0.028767    288  ...   \n",
       "NegsiRNA_E3_CA                  0.000000                0.000000    325  ...   \n",
       "\n",
       "                 j2j_distance_std  j2j_eu_distance_mean  j2j_eu_distance_std  \\\n",
       "NegsiRNA_C3c_CA         55.838049             64.151842            51.039731   \n",
       "NegsiRNA_C3b_CA         35.628550             51.255141            32.524791   \n",
       "NegsiRNA_E3_NO          35.494122             44.475891            32.458687   \n",
       "NegsiRNA_L2_NS          46.097159             48.457418            41.626902   \n",
       "NegsiRNA_L1_CA          34.425614             52.494589            31.461633   \n",
       "...                           ...                   ...                  ...   \n",
       "NegsiRNA_H2_CA          33.954309             50.942437            31.187113   \n",
       "NegsiRNA_I3_NO          37.953111             47.953077            34.082777   \n",
       "NegsiRNA_I2_CA          32.399391             39.080209            29.337301   \n",
       "NegsiRNA_H3_NS          39.278796             54.938723            35.721261   \n",
       "NegsiRNA_E3_CA          41.027360             52.046245            37.338348   \n",
       "\n",
       "                 j2j_distance_ratio_mean  j2j_distance_ratio_std  nodes_n  \\\n",
       "NegsiRNA_C3c_CA                 0.928818                0.035266     1156   \n",
       "NegsiRNA_C3b_CA                 0.935073                0.032228     1830   \n",
       "NegsiRNA_E3_NO                  0.933285                0.033524     2187   \n",
       "NegsiRNA_L2_NS                  0.927437                0.041164     1639   \n",
       "NegsiRNA_L1_CA                  0.933604                0.033201     1913   \n",
       "...                                  ...                     ...      ...   \n",
       "NegsiRNA_H2_CA                  0.932444                0.033376     2034   \n",
       "NegsiRNA_I3_NO                  0.929160                0.037500     1813   \n",
       "NegsiRNA_I2_CA                  0.930631                0.049304     3025   \n",
       "NegsiRNA_H3_NS                  0.932738                0.034584     1564   \n",
       "NegsiRNA_E3_CA                  0.932708                0.032751     1777   \n",
       "\n",
       "                 nodes_max  nodes_mean  nodes_std  label  \n",
       "NegsiRNA_C3c_CA          6    3.132353   0.368235      2  \n",
       "NegsiRNA_C3b_CA          5    3.121311   0.333116      2  \n",
       "NegsiRNA_E3_NO           5    3.139918   0.358568      1  \n",
       "NegsiRNA_L2_NS           5    3.153752   0.372363      0  \n",
       "NegsiRNA_L1_CA           5    3.125457   0.340574      2  \n",
       "...                    ...         ...        ...    ...  \n",
       "NegsiRNA_H2_CA           5    3.140118   0.351333      2  \n",
       "NegsiRNA_I3_NO           5    3.128516   0.339572      1  \n",
       "NegsiRNA_I2_CA           6    3.161653   0.385674      2  \n",
       "NegsiRNA_H3_NS           5    3.116368   0.322654      0  \n",
       "NegsiRNA_E3_CA           5    3.128306   0.337779      2  \n",
       "\n",
       "[102 rows x 28 columns]"
      ]
     },
     "execution_count": 76,
     "metadata": {},
     "output_type": "execute_result"
    }
   ],
   "source": [
    "df_ml"
   ]
  },
  {
   "cell_type": "code",
   "execution_count": 77,
   "metadata": {},
   "outputs": [
    {
     "data": {
      "text/plain": [
       "(102,)"
      ]
     },
     "execution_count": 77,
     "metadata": {},
     "output_type": "execute_result"
    }
   ],
   "source": [
    "y = df_ml['label']\n",
    "y.shape"
   ]
  },
  {
   "cell_type": "code",
   "execution_count": 78,
   "metadata": {},
   "outputs": [
    {
     "data": {
      "text/plain": [
       "(102, 27)"
      ]
     },
     "execution_count": 78,
     "metadata": {},
     "output_type": "execute_result"
    }
   ],
   "source": [
    "X = df_ml.drop('label', axis=1).to_numpy()\n",
    "X.shape"
   ]
  },
  {
   "cell_type": "code",
   "execution_count": 79,
   "metadata": {},
   "outputs": [],
   "source": [
    "X_train , X_test , y_train, y_test = train_test_split(X, y, random_state=0)"
   ]
  },
  {
   "cell_type": "code",
   "execution_count": 80,
   "metadata": {},
   "outputs": [
    {
     "data": {
      "text/plain": [
       "SVC(kernel='linear')"
      ]
     },
     "execution_count": 80,
     "metadata": {},
     "output_type": "execute_result"
    }
   ],
   "source": [
    "clf = svm.SVC(kernel='linear')\n",
    "clf.fit(X_train, y_train)"
   ]
  },
  {
   "cell_type": "code",
   "execution_count": 81,
   "metadata": {},
   "outputs": [
    {
     "name": "stdout",
     "output_type": "stream",
     "text": [
      "              precision    recall  f1-score   support\n",
      "\n",
      "           0       0.54      0.78      0.64         9\n",
      "           1       1.00      0.75      0.86         8\n",
      "           2       0.71      0.56      0.63         9\n",
      "\n",
      "    accuracy                           0.69        26\n",
      "   macro avg       0.75      0.69      0.71        26\n",
      "weighted avg       0.74      0.69      0.70        26\n",
      "\n"
     ]
    }
   ],
   "source": [
    "preds = clf.predict(X_test)\n",
    "print(classification_report(y_test, preds))"
   ]
  },
  {
   "cell_type": "code",
   "execution_count": 82,
   "metadata": {},
   "outputs": [
    {
     "name": "stdout",
     "output_type": "stream",
     "text": [
      "    NS  NO  CA\n",
      "NS   7   0   2\n",
      "NO   2   6   0\n",
      "CA   4   0   5\n"
     ]
    }
   ],
   "source": [
    "cm = confusion_matrix(y_test, preds)\n",
    "labels_show =  ['NS', 'NO', 'CA']\n",
    "df_cm = pd.DataFrame(cm, index=labels_show, columns=labels_show)\n",
    "print(df_cm.head())"
   ]
  },
  {
   "cell_type": "code",
   "execution_count": 83,
   "metadata": {},
   "outputs": [
    {
     "data": {
      "text/plain": [
       "Text(83.40000000000006, 0.5, 'Real labels')"
      ]
     },
     "execution_count": 83,
     "metadata": {},
     "output_type": "execute_result"
    },
    {
     "data": {
      "image/png": "[encoded data removed]",
      "text/plain": [
       "<Figure size 432x288 with 2 Axes>"
      ]
     },
     "metadata": {
      "needs_background": "light"
     },
     "output_type": "display_data"
    }
   ],
   "source": [
    "ax = sns.heatmap(df_cm, square=True, cmap='PuBu', fmt='.2f', annot=True, linewidths=0.1, linecolor='gray')\n",
    "ax.set_xlabel('Predictions')\n",
    "ax.set_ylabel('Real labels')\n"
   ]
  },
  {
   "cell_type": "code",
   "execution_count": 84,
   "metadata": {},
   "outputs": [
    {
     "name": "stdout",
     "output_type": "stream",
     "text": [
      "          NS    NO        CA\n",
      "NS  0.777778  0.00  0.222222\n",
      "NO  0.250000  0.75  0.000000\n",
      "CA  0.444444  0.00  0.555556\n"
     ]
    }
   ],
   "source": [
    "cm_n = cm / cm.sum(axis=1)[:, np.newaxis] # normalización\n",
    "df_cm_n = pd.DataFrame(cm_n, index=labels_show, columns=labels_show)\n",
    "print(df_cm_n.head())"
   ]
  },
  {
   "cell_type": "code",
   "execution_count": 86,
   "metadata": {},
   "outputs": [
    {
     "data": {
      "text/plain": [
       "Text(83.40000000000006, 0.5, 'Real labels')"
      ]
     },
     "execution_count": 86,
     "metadata": {},
     "output_type": "execute_result"
    },
    {
     "data": {
      "image/png": "[encoded data removed]",
      "text/plain": [
       "<Figure size 432x288 with 2 Axes>"
      ]
     },
     "metadata": {
      "needs_background": "light"
     },
     "output_type": "display_data"
    }
   ],
   "source": [
    "ax = sns.heatmap(df_cm_n, square=True, cmap='PuBu', fmt='.2f', annot=True, vmin=0, vmax=1, linewidths=0.1, linecolor='gray')\n",
    "ax.set_xlabel('Predictions')\n",
    "ax.set_ylabel('Real labels')"
   ]
  },
  {
   "cell_type": "code",
   "execution_count": null,
   "metadata": {},
   "outputs": [],
   "source": []
  }
 ],
 "metadata": {
  "kernelspec": {
   "display_name": "fondef",
   "language": "python",
   "name": "fondef"
  },
  "language_info": {
   "codemirror_mode": {
    "name": "ipython",
    "version": 3
   },
   "file_extension": ".py",
   "mimetype": "text/x-python",
   "name": "python",
   "nbconvert_exporter": "python",
   "pygments_lexer": "ipython3",
   "version": "3.8.5"
  }
 },
 "nbformat": 4,
 "nbformat_minor": 4
}
