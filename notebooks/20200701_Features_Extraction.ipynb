{
 "cells": [
  {
   "cell_type": "code",
   "execution_count": 1,
   "metadata": {},
   "outputs": [
    {
     "name": "stderr",
     "output_type": "stream",
     "text": [
      "/home/juanjo/VirtualEnvs/Fondef/lib/python3.8/site-packages/skan/csr.py:21: NumbaDeprecationWarning: The 'numba.jitclass' decorator has moved to 'numba.experimental.jitclass' to better reflect the experimental nature of the functionality. Please update your imports to accommodate this change and see http://numba.pydata.org/numba-doc/latest/reference/deprecation.html#change-of-jitclass-location for the time frame.\n",
      "  @numba.jitclass(csr_spec)\n"
     ]
    }
   ],
   "source": [
    "import os\n",
    "import sys\n",
    "import cv2\n",
    "import numpy as np\n",
    "import matplotlib.pyplot as plt\n",
    "from skan import skeleton_to_csgraph, _testdata, draw, Skeleton, summarize\n",
    "\n",
    "sys.path.insert(0, os.path.abspath('../'))\n",
    "from src.lib import centroids as centutils\n",
    "\n",
    "plt.rcParams['figure.figsize'] = [15, 15]"
   ]
  },
  {
   "cell_type": "code",
   "execution_count": 2,
   "metadata": {},
   "outputs": [],
   "source": [
    "def get_skeleton_data(sk_img):\n",
    "    sk_img_gray = cv2.cvtColor(sk_img, cv2.COLOR_BGR2GRAY)\n",
    "    pixel_graph, coordinates, degrees = skeleton_to_csgraph(sk_img_gray)\n",
    "    branch_data = summarize(Skeleton(sk_img_gray))\n",
    "    return degrees, branch_data"
   ]
  },
  {
   "cell_type": "code",
   "execution_count": 19,
   "metadata": {},
   "outputs": [],
   "source": [
    "def get_area_features(nuclei_img, jbin_img):\n",
    "    centroids = centutils.get_nuclei_centroids(nuclei_img)\n",
    "    centroids = centutils.clean_centroids(centroids, jbin_img)\n",
    "    centroids, moments = centutils.get_moments_cells(centroids, jbin_img)\n",
    "    \n",
    "    ret = {}\n",
    "    \n",
    "    cell_area = 0\n",
    "    total_area = jbin_img.shape[0] * jbin_img.shape[1]\n",
    "    \n",
    "    for m in moments:\n",
    "        cell_area += m['m00']\n",
    "        \n",
    "    white_area = len(jbin_img[np.where(jbin_img != 0)]) \n",
    "    print(white_area)\n",
    "    ret['cell_area_ratio'] = cell_area / total_area\n",
    "    ret['white_area_ratio'] = white_area / total_area\n",
    "    \n",
    "    return ret"
   ]
  },
  {
   "cell_type": "code",
   "execution_count": 28,
   "metadata": {},
   "outputs": [],
   "source": [
    "def get_skeleton_features(sk_img):\n",
    "    degrees, branch_data = get_skeleton_data(sk_img)\n",
    "    \n",
    "    ret = {}\n",
    "    \n",
    "    # End-to-end\n",
    "    e2e_data = branch_data[branch_data['branch-type'] == 0]\n",
    "    ret['e2e_n'] = len(e2e_data)\n",
    "    ret['e2e_distance_mean'] = e2e_data['branch-distance'].mean()\n",
    "    ret['e2e_distance_std'] = e2e_data['branch-distance'].std()\n",
    "    ret['e2e_eu_distance_mean'] = e2e_data['euclidean-distance'].mean()\n",
    "    ret['e2e_eu_distance_std'] = e2e_data['euclidean-distance'].std()\n",
    "    ret['e2e_distance_ratio_mean'] = (e2e_data['euclidean-distance'] / e2e_data['branch-distance']).mean()\n",
    "    ret['e2e_distance_ratio_std'] = (e2e_data['euclidean-distance'] / e2e_data['branch-distance']).std()\n",
    "    \n",
    "    # Junction-to-end\n",
    "    j2e_data = branch_data[branch_data['branch-type'] == 1]\n",
    "    ret['j2e_n'] = len(j2e_data)\n",
    "    ret['j2e_distance_mean'] = j2e_data['branch-distance'].mean()\n",
    "    ret['j2e_distance_std'] = j2e_data['branch-distance'].std()\n",
    "    ret['j2e_eu_distance_mean'] = j2e_data['euclidean-distance'].mean()\n",
    "    ret['j2e_eu_distance_std'] = j2e_data['euclidean-distance'].std()\n",
    "    ret['j2e_distance_ratio_mean'] = (j2e_data['euclidean-distance'] / j2e_data['branch-distance']).mean()\n",
    "    ret['j2e_distance_ratio_std'] = (j2e_data['euclidean-distance'] / j2e_data['branch-distance']).std()\n",
    "    \n",
    "    # Junction-to-junction\n",
    "    j2j_data = branch_data[branch_data['branch-type'] == 2]\n",
    "    ret['j2j_n'] = len(j2j_data)\n",
    "    ret['j2j_distance_mean'] = j2j_data['branch-distance'].mean()\n",
    "    ret['j2j_distance_std'] = j2j_data['branch-distance'].std()\n",
    "    ret['j2j_eu_distance_mean'] = j2j_data['euclidean-distance'].mean()\n",
    "    ret['j2j_eu_distance_std'] = j2j_data['euclidean-distance'].std()\n",
    "    ret['j2j_distance_ratio_mean'] = (j2j_data['euclidean-distance'] / j2j_data['branch-distance']).mean()\n",
    "    ret['j2j_distance_ratio_std'] = (j2j_data['euclidean-distance'] / j2j_data['branch-distance']).std()\n",
    "\n",
    "    # Nodes\n",
    "    nodes = degrees[np.where(degrees > 2)]\n",
    "    ret['nodes_n'] = len(nodes)\n",
    "    ret['nodes_max'] = nodes.max()\n",
    "    ret['nodes_mean'] = nodes.mean()\n",
    "    ret['nodes_std'] = nodes.std()\n",
    "    \n",
    "    return ret"
   ]
  },
  {
   "cell_type": "code",
   "execution_count": 29,
   "metadata": {},
   "outputs": [
    {
     "name": "stdout",
     "output_type": "stream",
     "text": [
      "###################################################\n",
      "ACTB_B2_CA\n",
      "1983906\n",
      "###################################################\n",
      "ACTB_B2_NO\n",
      "2037924\n",
      "###################################################\n",
      "ACTB_B2_NS\n",
      "2784597\n",
      "###################################################\n",
      "ACTN4_L2_NO\n",
      "933585\n",
      "###################################################\n",
      "ACTN4_L3_NO\n",
      "1869606\n",
      "###################################################\n",
      "ACTR3_C3_NO\n",
      "2428842\n",
      "###################################################\n",
      "ADAM9_C2_NO\n",
      "1992966\n",
      "###################################################\n",
      "ADD3_A2_CA\n",
      "1729608\n",
      "###################################################\n",
      "AKAP5_B2_CA\n",
      "2248413\n",
      "###################################################\n",
      "AKT1_B1_CA\n",
      "1324197\n",
      "###################################################\n",
      "AKT1_B2_CA\n",
      "2853879\n",
      "###################################################\n",
      "NegsiRNA_A2_NS\n",
      "1766124\n",
      "###################################################\n",
      "NegsiRNA_A2b_CA\n",
      "2201271\n",
      "###################################################\n",
      "NegsiRNA_A2b_NO\n",
      "2003304\n",
      "###################################################\n",
      "NegsiRNA_A2b_NS\n",
      "2110860\n",
      "###################################################\n",
      "NegsiRNA_A3_CA\n",
      "1915707\n",
      "###################################################\n",
      "NegsiRNA_A3_NO\n",
      "1743813\n",
      "###################################################\n",
      "NegsiRNA_A3_NS\n",
      "1928484\n",
      "###################################################\n",
      "NegsiRNA_B1_CA\n",
      "1768410\n",
      "###################################################\n",
      "NegsiRNA_B1_NO\n",
      "2559894\n"
     ]
    }
   ],
   "source": [
    "FILENAMES = ['ACTB_B2_CA', 'ACTB_B2_NO', 'ACTB_B2_NS', 'ACTN4_L2_NO', \n",
    "         'ACTN4_L3_NO', 'ACTR3_C3_NO', 'ADAM9_C2_NO', 'ADD3_A2_CA',\n",
    "         'AKAP5_B2_CA', 'AKT1_B1_CA', 'AKT1_B2_CA', 'NegsiRNA_A2_NS',\n",
    "         'NegsiRNA_A2b_CA', 'NegsiRNA_A2b_NO', 'NegsiRNA_A2b_NS', 'NegsiRNA_A3_CA',\n",
    "         'NegsiRNA_A3_NO', 'NegsiRNA_A3_NS', 'NegsiRNA_B1_CA', 'NegsiRNA_B1_NO']\n",
    "\n",
    "\n",
    "def main():\n",
    "    ft_dict = {}\n",
    "    for name in FILENAMES:\n",
    "        print(\"###################################################\")\n",
    "        print(name)\n",
    "        nuclei_path = '../data/{name}n.tif'.format(name=name)\n",
    "        jbin_path = '../data/{name}j-BI.tif'.format(name=name)\n",
    "        jsk_path = '../data/{name}j-SK.tif'.format(name=name)\n",
    "        j_path = '../data/{name}j.tif'.format(name=name)\n",
    "\n",
    "        nuclei_img = cv2.imread(nuclei_path)\n",
    "        jbin_img = cv2.imread(jbin_path)\n",
    "        jsk_img = cv2.imread(jsk_path)\n",
    "        j_img = cv2.imread(j_path)\n",
    "\n",
    "        features = {}\n",
    "        area_ft = get_area_features(nuclei_img, jbin_img)\n",
    "        sk_ft = get_skeleton_features(jsk_img)\n",
    "        \n",
    "        features.update(area_ft)\n",
    "        features.update(sk_ft)\n",
    "        \n",
    "        ft_dict[name] = features\n",
    "    return ft_dict\n",
    "    \n",
    "ft = main()"
   ]
  },
  {
   "cell_type": "code",
   "execution_count": 30,
   "metadata": {},
   "outputs": [
    {
     "data": {
      "text/plain": [
       "20"
      ]
     },
     "execution_count": 30,
     "metadata": {},
     "output_type": "execute_result"
    }
   ],
   "source": [
    "len(ft)"
   ]
  },
  {
   "cell_type": "code",
   "execution_count": 41,
   "metadata": {},
   "outputs": [],
   "source": [
    "name = 'ACTB_B2_NO'\n",
    "nuclei_path = '../data/{name}n.tif'.format(name=name)\n",
    "jbin_path = '../data/{name}j-BI.tif'.format(name=name)\n",
    "jsk_path = '../data/{name}j-SK.tif'.format(name=name)\n",
    "j_path = '../data/{name}j.tif'.format(name=name)\n",
    "\n",
    "nuclei_img = cv2.imread(nuclei_path)\n",
    "jbin_img = cv2.imread(jbin_path)\n",
    "jsk_img = cv2.imread(jsk_path)\n",
    "j_img = cv2.imread(j_path)\n",
    "\n",
    "_, branch_data = get_skeleton_data(jsk_img)"
   ]
  },
  {
   "cell_type": "code",
   "execution_count": 44,
   "metadata": {},
   "outputs": [
    {
     "data": {
      "text/html": [
       "<div>\n",
       "<style scoped>\n",
       "    .dataframe tbody tr th:only-of-type {\n",
       "        vertical-align: middle;\n",
       "    }\n",
       "\n",
       "    .dataframe tbody tr th {\n",
       "        vertical-align: top;\n",
       "    }\n",
       "\n",
       "    .dataframe thead th {\n",
       "        text-align: right;\n",
       "    }\n",
       "</style>\n",
       "<table border=\"1\" class=\"dataframe\">\n",
       "  <thead>\n",
       "    <tr style=\"text-align: right;\">\n",
       "      <th></th>\n",
       "      <th>skeleton-id</th>\n",
       "      <th>node-id-src</th>\n",
       "      <th>node-id-dst</th>\n",
       "      <th>branch-distance</th>\n",
       "      <th>branch-type</th>\n",
       "      <th>mean-pixel-value</th>\n",
       "      <th>stdev-pixel-value</th>\n",
       "      <th>image-coord-src-0</th>\n",
       "      <th>image-coord-src-1</th>\n",
       "      <th>image-coord-dst-0</th>\n",
       "      <th>image-coord-dst-1</th>\n",
       "      <th>coord-src-0</th>\n",
       "      <th>coord-src-1</th>\n",
       "      <th>coord-dst-0</th>\n",
       "      <th>coord-dst-1</th>\n",
       "      <th>euclidean-distance</th>\n",
       "    </tr>\n",
       "  </thead>\n",
       "  <tbody>\n",
       "    <tr>\n",
       "      <th>1076</th>\n",
       "      <td>653</td>\n",
       "      <td>26435</td>\n",
       "      <td>26650</td>\n",
       "      <td>6.0</td>\n",
       "      <td>0</td>\n",
       "      <td>1.0</td>\n",
       "      <td>0.0</td>\n",
       "      <td>1012.0</td>\n",
       "      <td>0.0</td>\n",
       "      <td>1018.0</td>\n",
       "      <td>0.0</td>\n",
       "      <td>1012.0</td>\n",
       "      <td>0.0</td>\n",
       "      <td>1018.0</td>\n",
       "      <td>0.0</td>\n",
       "      <td>6.0</td>\n",
       "    </tr>\n",
       "  </tbody>\n",
       "</table>\n",
       "</div>"
      ],
      "text/plain": [
       "      skeleton-id  node-id-src  node-id-dst  branch-distance  branch-type  \\\n",
       "1076          653        26435        26650              6.0            0   \n",
       "\n",
       "      mean-pixel-value  stdev-pixel-value  image-coord-src-0  \\\n",
       "1076               1.0                0.0             1012.0   \n",
       "\n",
       "      image-coord-src-1  image-coord-dst-0  image-coord-dst-1  coord-src-0  \\\n",
       "1076                0.0             1018.0                0.0       1012.0   \n",
       "\n",
       "      coord-src-1  coord-dst-0  coord-dst-1  euclidean-distance  \n",
       "1076          0.0       1018.0          0.0                 6.0  "
      ]
     },
     "execution_count": 44,
     "metadata": {},
     "output_type": "execute_result"
    }
   ],
   "source": [
    "branch_data[branch_data['branch-type'] == 0]"
   ]
  },
  {
   "cell_type": "code",
   "execution_count": 74,
   "metadata": {},
   "outputs": [],
   "source": [
    "import pandas as pd\n",
    "df = pd.DataFrame.from_dict(ft, orient='index')"
   ]
  },
  {
   "cell_type": "code",
   "execution_count": 94,
   "metadata": {},
   "outputs": [],
   "source": [
    "cleaned_df = df.drop(columns=['e2e_distance_mean', 'e2e_distance_std', \n",
    "                              'e2e_eu_distance_mean', 'e2e_eu_distance_std', \n",
    "                              'e2e_distance_ratio_mean', 'e2e_distance_ratio_std'])"
   ]
  },
  {
   "cell_type": "code",
   "execution_count": 95,
   "metadata": {},
   "outputs": [],
   "source": [
    "from sklearn.decomposition import PCA\n",
    "from sklearn.preprocessing import normalize"
   ]
  },
  {
   "cell_type": "code",
   "execution_count": 103,
   "metadata": {},
   "outputs": [],
   "source": [
    "data_a = cleaned_df.to_numpy()\n",
    "data_norm = normalize(data_a, axis=0)\n",
    "pca = PCA(n_components=10)"
   ]
  },
  {
   "cell_type": "code",
   "execution_count": 104,
   "metadata": {},
   "outputs": [
    {
     "data": {
      "text/plain": [
       "PCA(n_components=10)"
      ]
     },
     "execution_count": 104,
     "metadata": {},
     "output_type": "execute_result"
    }
   ],
   "source": [
    "pca.fit(data_norm)"
   ]
  },
  {
   "cell_type": "code",
   "execution_count": 105,
   "metadata": {},
   "outputs": [
    {
     "data": {
      "text/plain": [
       "(20, 21)"
      ]
     },
     "execution_count": 105,
     "metadata": {},
     "output_type": "execute_result"
    }
   ],
   "source": [
    "data_norm.shape"
   ]
  },
  {
   "cell_type": "code",
   "execution_count": 106,
   "metadata": {},
   "outputs": [
    {
     "data": {
      "text/plain": [
       "array([[0.21982905, 0.21573097, 0.17817416, 0.18697341, 0.25764603,\n",
       "        0.2576734 , 0.25726874, 0.25839072, 0.22320695, 0.21996179,\n",
       "        0.19407465, 0.23742384, 0.24264712, 0.23622889, 0.2403572 ,\n",
       "        0.22319137, 0.21505365, 0.19034048, 0.21223818, 0.22334537,\n",
       "        0.22022911],\n",
       "       [0.21269611, 0.22160492, 0.02227177, 0.19370653, 0.21487156,\n",
       "        0.1962254 , 0.21552304, 0.19837105, 0.2243994 , 0.16717285,\n",
       "        0.19352173, 0.24944396, 0.25131734, 0.24822622, 0.24786125,\n",
       "        0.22286673, 0.20836892, 0.1930868 , 0.25468582, 0.22340875,\n",
       "        0.22378607],\n",
       "       [0.20225304, 0.30279853, 0.04454354, 0.1802403 , 0.26914837,\n",
       "        0.2271798 , 0.27043901, 0.23118823, 0.22423635, 0.16814376,\n",
       "        0.19462757, 0.24227628, 0.21873676, 0.24406942, 0.2210883 ,\n",
       "        0.22468262, 0.18432343, 0.18970672, 0.21223818, 0.22349552,\n",
       "        0.21753505],\n",
       "       [0.08079919, 0.10151852, 0.11135885, 0.16780993, 0.20760319,\n",
       "        0.23333233, 0.20668958, 0.23560934, 0.22318366, 0.23629198,\n",
       "        0.14320608, 0.17343514, 0.18991231, 0.16919024, 0.17969521,\n",
       "        0.22153717, 0.30881453, 0.14576574, 0.21223818, 0.22307643,\n",
       "        0.2164762 ],\n",
       "       [0.23697223, 0.20330193, 0.04454354, 0.2631094 , 0.19563246,\n",
       "        0.19677478, 0.1956232 , 0.19772384, 0.22391793, 0.15853445,\n",
       "        0.22835564, 0.21217449, 0.23102098, 0.21225953, 0.23170733,\n",
       "        0.22406763, 0.1932323 , 0.23153515, 0.21223818, 0.22251054,\n",
       "        0.21094437],\n",
       "       [0.21228331, 0.26411355, 0.06681531, 0.23255142, 0.211791  ,\n",
       "        0.19695531, 0.21295085, 0.19969535, 0.22422027, 0.20011096,\n",
       "        0.24549613, 0.21883342, 0.19453027, 0.21878504, 0.19274708,\n",
       "        0.22390816, 0.19258638, 0.24241477, 0.21223818, 0.22359353,\n",
       "        0.21907039],\n",
       "       [0.24224102, 0.21671616, 0.33407655, 0.32370743, 0.1977265 ,\n",
       "        0.19296311, 0.19509121, 0.18593919, 0.22159843, 0.27661545,\n",
       "        0.32124607, 0.17445666, 0.18913147, 0.1739224 , 0.18781458,\n",
       "        0.22330373, 0.24980275, 0.32818418, 0.21223818, 0.22491951,\n",
       "        0.24242557],\n",
       "       [0.26684714, 0.18807848, 0.06681531, 0.15796923, 0.22270692,\n",
       "        0.27813556, 0.22154516, 0.27727719, 0.22388182, 0.21901756,\n",
       "        0.16172887, 0.26585114, 0.24961695, 0.26599946, 0.25028835,\n",
       "        0.22316479, 0.19848849, 0.15759601, 0.21223818, 0.22287929,\n",
       "        0.21291215],\n",
       "       [0.22176728, 0.2444936 , 0.04454354, 0.12844711, 0.2545155 ,\n",
       "        0.19697218, 0.25475195, 0.1963472 , 0.22389705, 0.18928308,\n",
       "        0.15481738, 0.28821439, 0.26383006, 0.28868396, 0.26407005,\n",
       "        0.22381416, 0.17579528, 0.14840643, 0.21223818, 0.22322107,\n",
       "        0.21648643],\n",
       "       [0.25545074, 0.14399387, 0.20044593, 0.12274986, 0.23773506,\n",
       "        0.35125889, 0.2337389 , 0.3400458 , 0.22215312, 0.33439934,\n",
       "        0.13767689, 0.27033474, 0.26205162, 0.26993745, 0.26305753,\n",
       "        0.22316734, 0.23925556, 0.13425236, 0.21223818, 0.2242972 ,\n",
       "        0.23112051],\n",
       "       [0.17264155, 0.31033229, 0.04454354, 0.27087838, 0.26189057,\n",
       "        0.20219929, 0.26323733, 0.20403426, 0.22444052, 0.16431089,\n",
       "        0.24798427, 0.19707831, 0.19778392, 0.19792189, 0.19840036,\n",
       "        0.22487409, 0.20999954, 0.24896366, 0.21223818, 0.22304049,\n",
       "        0.21521516],\n",
       "       [0.25148745, 0.19204925, 0.06681531, 0.2258183 , 0.20410133,\n",
       "        0.2318639 , 0.20491521, 0.2344055 , 0.22419376, 0.26193288,\n",
       "        0.21840309, 0.22344821, 0.21972395, 0.2240785 , 0.2211468 ,\n",
       "        0.22404124, 0.19314182, 0.22202869, 0.21223818, 0.22355053,\n",
       "        0.21791529],\n",
       "       [0.21250355, 0.23936736, 0.42316363, 0.22322864, 0.21916286,\n",
       "        0.19241956, 0.21865704, 0.19287549, 0.22277053, 0.26511488,\n",
       "        0.26042495, 0.20752954, 0.21754673, 0.20791871, 0.21558783,\n",
       "        0.22422093, 0.22057752, 0.25498442, 0.25468582, 0.22427737,\n",
       "        0.23923816],\n",
       "       [0.2101587 , 0.21784032, 0.13363062, 0.29004186, 0.22124469,\n",
       "        0.18959274, 0.22158193, 0.1894931 , 0.22416535, 0.15536698,\n",
       "        0.23277899, 0.19529988, 0.21137815, 0.19549336, 0.21028266,\n",
       "        0.22454424, 0.1946951 , 0.24547796, 0.21223818, 0.22267646,\n",
       "        0.20906303],\n",
       "       [0.22351022, 0.22953602, 0.71269665, 0.19733205, 0.22160584,\n",
       "        0.21240932, 0.22271533, 0.21736278, 0.22434415, 0.2101401 ,\n",
       "        0.21978539, 0.23036552, 0.23113055, 0.23106124, 0.23354209,\n",
       "        0.22341765, 0.22313496, 0.21643044, 0.21223818, 0.22393483,\n",
       "        0.22956043],\n",
       "       [0.23299798, 0.20831498, 0.15590239, 0.27191424, 0.18846423,\n",
       "        0.17130761, 0.18857213, 0.17436152, 0.22297254, 0.24394367,\n",
       "        0.25904265, 0.19243586, 0.203577  , 0.19225807, 0.20462565,\n",
       "        0.22345401, 0.28811579, 0.26026579, 0.21223818, 0.22346224,\n",
       "        0.22296681],\n",
       "       [0.24593084, 0.18962314, 0.06681531, 0.28382667, 0.19140595,\n",
       "        0.1805942 , 0.19184221, 0.18228098, 0.22328137, 0.23336439,\n",
       "        0.24715489, 0.19150621, 0.21782514, 0.19089174, 0.21867926,\n",
       "        0.22286381, 0.24578053, 0.25878701, 0.25468582, 0.22357411,\n",
       "        0.22331371],\n",
       "       [0.24688549, 0.20970436, 0.17817416, 0.24860731, 0.1918972 ,\n",
       "        0.21351289, 0.19116593, 0.21041881, 0.22273988, 0.27290148,\n",
       "        0.28724153, 0.18901704, 0.19557865, 0.18950326, 0.19780706,\n",
       "        0.22363614, 0.23718384, 0.27970122, 0.25468582, 0.22404985,\n",
       "        0.23131572],\n",
       "       [0.24978694, 0.19229783, 0.11135885, 0.15071818, 0.24720955,\n",
       "        0.27397874, 0.24794154, 0.27780796, 0.22345843, 0.22623626,\n",
       "        0.17389309, 0.2517599 , 0.25397479, 0.25215151, 0.25852758,\n",
       "        0.22290419, 0.24202891, 0.17291197, 0.25468582, 0.22471529,\n",
       "        0.23852225],\n",
       "       [0.20738489, 0.27836421, 0.06681531, 0.2144238 , 0.22883232,\n",
       "        0.19852496, 0.23029329, 0.19569961, 0.22504295, 0.16862495,\n",
       "        0.24770781, 0.21586842, 0.20496048, 0.21711285, 0.20680525,\n",
       "        0.22444945, 0.20152392, 0.24093598, 0.21223818, 0.22408991,\n",
       "        0.23007261]])"
      ]
     },
     "execution_count": 106,
     "metadata": {},
     "output_type": "execute_result"
    }
   ],
   "source": [
    "data_norm"
   ]
  },
  {
   "cell_type": "code",
   "execution_count": 107,
   "metadata": {},
   "outputs": [
    {
     "data": {
      "text/plain": [
       "array([0.55199858, 0.23757577, 0.09407713, 0.0564265 , 0.02674689,\n",
       "       0.01411455, 0.00768569, 0.00494133, 0.00378534, 0.00121107])"
      ]
     },
     "execution_count": 107,
     "metadata": {},
     "output_type": "execute_result"
    }
   ],
   "source": [
    "pca.explained_variance_ratio_"
   ]
  },
  {
   "cell_type": "code",
   "execution_count": 108,
   "metadata": {},
   "outputs": [
    {
     "data": {
      "text/plain": [
       "array([0.73911274, 0.48488949, 0.30512918, 0.23631062, 0.16269655,\n",
       "       0.11818848, 0.0872134 , 0.06992999, 0.06120604, 0.03461991])"
      ]
     },
     "execution_count": 108,
     "metadata": {},
     "output_type": "execute_result"
    }
   ],
   "source": [
    "pca.singular_values_"
   ]
  },
  {
   "cell_type": "code",
   "execution_count": null,
   "metadata": {},
   "outputs": [],
   "source": [
    "pca_array = pca.transform(data_norm)\n",
    "fig, ax = plt.subplots(1)\n",
    "ax.set_xlabel('Principal component 1')\n",
    "ax.set_ylabel('Principal component 2')\n",
    "plt.scatter(pca_array[:, 0], pca_array[:, 1])\n",
    "\n",
    "labels = list(df.index)\n",
    "\n",
    "for index, label in enumerate(labels):\n",
    "    ax.text(pca_array[index, 0] + 10, pca_array[index, 1] + 10, label, fontsize=12)\n",
    "    "
   ]
  },
  {
   "cell_type": "code",
   "execution_count": null,
   "metadata": {},
   "outputs": [],
   "source": []
  }
 ],
 "metadata": {
  "kernelspec": {
   "display_name": "fondef",
   "language": "python",
   "name": "fondef"
  },
  "language_info": {
   "codemirror_mode": {
    "name": "ipython",
    "version": 3
   },
   "file_extension": ".py",
   "mimetype": "text/x-python",
   "name": "python",
   "nbconvert_exporter": "python",
   "pygments_lexer": "ipython3",
   "version": "3.8.3"
  }
 },
 "nbformat": 4,
 "nbformat_minor": 4
}
