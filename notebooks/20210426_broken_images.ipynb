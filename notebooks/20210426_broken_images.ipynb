{
 "metadata": {
  "language_info": {
   "codemirror_mode": {
    "name": "ipython",
    "version": 3
   },
   "file_extension": ".py",
   "mimetype": "text/x-python",
   "name": "python",
   "nbconvert_exporter": "python",
   "pygments_lexer": "ipython3",
   "version": "3.8.6"
  },
  "orig_nbformat": 2,
  "kernelspec": {
   "name": "python386jvsc74a57bd0b83d91724cd20ddb40b63ec2a6f1dadccbe7dd7746a028280d2edb777c58a03a",
   "display_name": "Python 3.8.6 64-bit ('anillo': conda)"
  }
 },
 "nbformat": 4,
 "nbformat_minor": 2,
 "cells": [
  {
   "cell_type": "code",
   "execution_count": 1,
   "metadata": {},
   "outputs": [],
   "source": [
    "import os\n",
    "import cv2\n",
    "import plotly_express as px\n",
    "import numpy as np\n",
    "import pandas as pd\n",
    "import matplotlib.pyplot as plt"
   ]
  },
  {
   "cell_type": "code",
   "execution_count": 2,
   "metadata": {},
   "outputs": [],
   "source": [
    "broken_imgs_dir = '../data/raw/images/Broken'"
   ]
  },
  {
   "cell_type": "code",
   "execution_count": 3,
   "metadata": {},
   "outputs": [
    {
     "output_type": "execute_result",
     "data": {
      "text/plain": [
       "                  protein plate stimulus  white_area_ratio     area_mean  \\\n",
       "NegsiRNA_C3c_CA  NegsiRNA   C3c       CA          0.153746  16637.950000   \n",
       "NegsiRNA_C3b_CA  NegsiRNA   C3b       CA          0.304616   7925.681159   \n",
       "NegsiRNA_E3_NO   NegsiRNA    E3       NO          0.297828   9152.662983   \n",
       "AKT1_B2_NO           AKT1    B2       NO          0.330304   9813.732919   \n",
       "NegsiRNA_L2_NS   NegsiRNA    L2       NS          0.188984  16354.025641   \n",
       "...                   ...   ...      ...               ...           ...   \n",
       "NegsiRNA_H3_NS   NegsiRNA    H3       NS          0.287646   9603.737143   \n",
       "NegsiRNA_E3_CA   NegsiRNA    E3       CA          0.273407   9684.988701   \n",
       "CTNNA1_A3_NO       CTNNA1    A3       NO          0.153547  11816.662722   \n",
       "NUMB_E3_CA           NUMB    E3       CA          0.271097   8729.426396   \n",
       "ENAH_B3_NO           ENAH    B3       NO          0.261689  10010.890805   \n",
       "\n",
       "                     area_std  area_median  area_mad  area_mode  \\\n",
       "NegsiRNA_C3c_CA  11646.732082      14287.0    6981.5        285   \n",
       "NegsiRNA_C3b_CA   5204.357864       7362.0    3644.0       8047   \n",
       "NegsiRNA_E3_NO    5861.016265       8733.0    4082.0        324   \n",
       "AKT1_B2_NO        6168.496066       9421.0    3578.0        630   \n",
       "NegsiRNA_L2_NS   11973.890243      14692.0    7801.0        133   \n",
       "...                       ...          ...       ...        ...   \n",
       "NegsiRNA_H3_NS    6005.232074       8918.0    3276.0        183   \n",
       "NegsiRNA_E3_CA    6795.547574       9237.0    4849.0        158   \n",
       "CTNNA1_A3_NO     15246.811242       8115.0    7508.0        178   \n",
       "NUMB_E3_CA        5398.034067       8229.0    3936.0       1946   \n",
       "ENAH_B3_NO        7062.259261       8996.0    4996.0         45   \n",
       "\n",
       "                 perimeter_mean  ...  texture_std_filter_mad  \\\n",
       "NegsiRNA_C3c_CA      559.346271  ...              264.465454   \n",
       "NegsiRNA_C3b_CA      372.289565  ...              451.676392   \n",
       "NegsiRNA_E3_NO       420.311546  ...              380.513855   \n",
       "AKT1_B2_NO           439.762406  ...              694.106445   \n",
       "NegsiRNA_L2_NS       570.751082  ...              338.279541   \n",
       "...                         ...  ...                     ...   \n",
       "NegsiRNA_H3_NS       420.846019  ...              510.528870   \n",
       "NegsiRNA_E3_CA       418.241897  ...              398.624023   \n",
       "CTNNA1_A3_NO         480.798606  ...              279.118835   \n",
       "NUMB_E3_CA           391.571130  ...              326.912415   \n",
       "ENAH_B3_NO           440.324334  ...              582.517944   \n",
       "\n",
       "                 texture_std_filter_mode  texture_entropy_filter_mean  \\\n",
       "NegsiRNA_C3c_CA               516.588501                     3.294059   \n",
       "NegsiRNA_C3b_CA               835.012390                     3.826592   \n",
       "NegsiRNA_E3_NO                696.241333                     3.656484   \n",
       "AKT1_B2_NO                   1188.369629                     4.154108   \n",
       "NegsiRNA_L2_NS                625.615723                     3.548006   \n",
       "...                                  ...                          ...   \n",
       "NegsiRNA_H3_NS                803.342468                     3.914721   \n",
       "NegsiRNA_E3_CA                652.602112                     3.663541   \n",
       "CTNNA1_A3_NO                  525.445984                     3.328485   \n",
       "NUMB_E3_CA                    576.452637                     3.543888   \n",
       "ENAH_B3_NO                   1232.572144                     4.054212   \n",
       "\n",
       "                 texture_entropy_filter_std  texture_entropy_filter_median  \\\n",
       "NegsiRNA_C3c_CA                    0.607975                       3.287055   \n",
       "NegsiRNA_C3b_CA                    0.547050                       3.841366   \n",
       "NegsiRNA_E3_NO                     0.564080                       3.654402   \n",
       "AKT1_B2_NO                         0.523035                       4.191269   \n",
       "NegsiRNA_L2_NS                     0.576589                       3.554798   \n",
       "...                                     ...                            ...   \n",
       "NegsiRNA_H3_NS                     0.542904                       3.918922   \n",
       "NegsiRNA_E3_CA                     0.588857                       3.677247   \n",
       "CTNNA1_A3_NO                       0.597775                       3.338016   \n",
       "NUMB_E3_CA                         0.565170                       3.543282   \n",
       "ENAH_B3_NO                         0.530159                       4.078297   \n",
       "\n",
       "                 texture_entropy_filter_mad  texture_entropy_filter_mode  \\\n",
       "NegsiRNA_C3c_CA                    0.430039                     3.282318   \n",
       "NegsiRNA_C3b_CA                    0.387300                     3.869591   \n",
       "NegsiRNA_E3_NO                     0.401522                     3.590049   \n",
       "AKT1_B2_NO                         0.372221                     4.354190   \n",
       "NegsiRNA_L2_NS                     0.407309                     3.542132   \n",
       "...                                     ...                          ...   \n",
       "NegsiRNA_H3_NS                     0.389364                     4.026793   \n",
       "NegsiRNA_E3_CA                     0.415929                     3.870739   \n",
       "CTNNA1_A3_NO                       0.426792                     3.273900   \n",
       "NUMB_E3_CA                         0.403005                     3.634047   \n",
       "ENAH_B3_NO                         0.371750                     4.248230   \n",
       "\n",
       "                 global_entropy_discrete  global_entropy_kde  global_coeff_var  \n",
       "NegsiRNA_C3c_CA                 4.790249            4.802271          0.475106  \n",
       "NegsiRNA_C3b_CA                 5.144402            5.154480          0.500748  \n",
       "NegsiRNA_E3_NO                  4.918801            4.929815          0.507799  \n",
       "AKT1_B2_NO                      5.791014            5.803408          0.540478  \n",
       "NegsiRNA_L2_NS                  4.889136            4.899215          0.469468  \n",
       "...                                  ...                 ...               ...  \n",
       "NegsiRNA_H3_NS                  5.463957            5.476650          0.559494  \n",
       "NegsiRNA_E3_CA                  4.984301            4.994752          0.500610  \n",
       "CTNNA1_A3_NO                    4.569930            4.580187          0.455083  \n",
       "NUMB_E3_CA                      4.776272            4.785130          0.453597  \n",
       "ENAH_B3_NO                      5.609815            5.623074          0.575680  \n",
       "\n",
       "[282 rows x 242 columns]"
      ],
      "text/html": "<div>\n<style scoped>\n    .dataframe tbody tr th:only-of-type {\n        vertical-align: middle;\n    }\n\n    .dataframe tbody tr th {\n        vertical-align: top;\n    }\n\n    .dataframe thead th {\n        text-align: right;\n    }\n</style>\n<table border=\"1\" class=\"dataframe\">\n  <thead>\n    <tr style=\"text-align: right;\">\n      <th></th>\n      <th>protein</th>\n      <th>plate</th>\n      <th>stimulus</th>\n      <th>white_area_ratio</th>\n      <th>area_mean</th>\n      <th>area_std</th>\n      <th>area_median</th>\n      <th>area_mad</th>\n      <th>area_mode</th>\n      <th>perimeter_mean</th>\n      <th>...</th>\n      <th>texture_std_filter_mad</th>\n      <th>texture_std_filter_mode</th>\n      <th>texture_entropy_filter_mean</th>\n      <th>texture_entropy_filter_std</th>\n      <th>texture_entropy_filter_median</th>\n      <th>texture_entropy_filter_mad</th>\n      <th>texture_entropy_filter_mode</th>\n      <th>global_entropy_discrete</th>\n      <th>global_entropy_kde</th>\n      <th>global_coeff_var</th>\n    </tr>\n  </thead>\n  <tbody>\n    <tr>\n      <th>NegsiRNA_C3c_CA</th>\n      <td>NegsiRNA</td>\n      <td>C3c</td>\n      <td>CA</td>\n      <td>0.153746</td>\n      <td>16637.950000</td>\n      <td>11646.732082</td>\n      <td>14287.0</td>\n      <td>6981.5</td>\n      <td>285</td>\n      <td>559.346271</td>\n      <td>...</td>\n      <td>264.465454</td>\n      <td>516.588501</td>\n      <td>3.294059</td>\n      <td>0.607975</td>\n      <td>3.287055</td>\n      <td>0.430039</td>\n      <td>3.282318</td>\n      <td>4.790249</td>\n      <td>4.802271</td>\n      <td>0.475106</td>\n    </tr>\n    <tr>\n      <th>NegsiRNA_C3b_CA</th>\n      <td>NegsiRNA</td>\n      <td>C3b</td>\n      <td>CA</td>\n      <td>0.304616</td>\n      <td>7925.681159</td>\n      <td>5204.357864</td>\n      <td>7362.0</td>\n      <td>3644.0</td>\n      <td>8047</td>\n      <td>372.289565</td>\n      <td>...</td>\n      <td>451.676392</td>\n      <td>835.012390</td>\n      <td>3.826592</td>\n      <td>0.547050</td>\n      <td>3.841366</td>\n      <td>0.387300</td>\n      <td>3.869591</td>\n      <td>5.144402</td>\n      <td>5.154480</td>\n      <td>0.500748</td>\n    </tr>\n    <tr>\n      <th>NegsiRNA_E3_NO</th>\n      <td>NegsiRNA</td>\n      <td>E3</td>\n      <td>NO</td>\n      <td>0.297828</td>\n      <td>9152.662983</td>\n      <td>5861.016265</td>\n      <td>8733.0</td>\n      <td>4082.0</td>\n      <td>324</td>\n      <td>420.311546</td>\n      <td>...</td>\n      <td>380.513855</td>\n      <td>696.241333</td>\n      <td>3.656484</td>\n      <td>0.564080</td>\n      <td>3.654402</td>\n      <td>0.401522</td>\n      <td>3.590049</td>\n      <td>4.918801</td>\n      <td>4.929815</td>\n      <td>0.507799</td>\n    </tr>\n    <tr>\n      <th>AKT1_B2_NO</th>\n      <td>AKT1</td>\n      <td>B2</td>\n      <td>NO</td>\n      <td>0.330304</td>\n      <td>9813.732919</td>\n      <td>6168.496066</td>\n      <td>9421.0</td>\n      <td>3578.0</td>\n      <td>630</td>\n      <td>439.762406</td>\n      <td>...</td>\n      <td>694.106445</td>\n      <td>1188.369629</td>\n      <td>4.154108</td>\n      <td>0.523035</td>\n      <td>4.191269</td>\n      <td>0.372221</td>\n      <td>4.354190</td>\n      <td>5.791014</td>\n      <td>5.803408</td>\n      <td>0.540478</td>\n    </tr>\n    <tr>\n      <th>NegsiRNA_L2_NS</th>\n      <td>NegsiRNA</td>\n      <td>L2</td>\n      <td>NS</td>\n      <td>0.188984</td>\n      <td>16354.025641</td>\n      <td>11973.890243</td>\n      <td>14692.0</td>\n      <td>7801.0</td>\n      <td>133</td>\n      <td>570.751082</td>\n      <td>...</td>\n      <td>338.279541</td>\n      <td>625.615723</td>\n      <td>3.548006</td>\n      <td>0.576589</td>\n      <td>3.554798</td>\n      <td>0.407309</td>\n      <td>3.542132</td>\n      <td>4.889136</td>\n      <td>4.899215</td>\n      <td>0.469468</td>\n    </tr>\n    <tr>\n      <th>...</th>\n      <td>...</td>\n      <td>...</td>\n      <td>...</td>\n      <td>...</td>\n      <td>...</td>\n      <td>...</td>\n      <td>...</td>\n      <td>...</td>\n      <td>...</td>\n      <td>...</td>\n      <td>...</td>\n      <td>...</td>\n      <td>...</td>\n      <td>...</td>\n      <td>...</td>\n      <td>...</td>\n      <td>...</td>\n      <td>...</td>\n      <td>...</td>\n      <td>...</td>\n      <td>...</td>\n    </tr>\n    <tr>\n      <th>NegsiRNA_H3_NS</th>\n      <td>NegsiRNA</td>\n      <td>H3</td>\n      <td>NS</td>\n      <td>0.287646</td>\n      <td>9603.737143</td>\n      <td>6005.232074</td>\n      <td>8918.0</td>\n      <td>3276.0</td>\n      <td>183</td>\n      <td>420.846019</td>\n      <td>...</td>\n      <td>510.528870</td>\n      <td>803.342468</td>\n      <td>3.914721</td>\n      <td>0.542904</td>\n      <td>3.918922</td>\n      <td>0.389364</td>\n      <td>4.026793</td>\n      <td>5.463957</td>\n      <td>5.476650</td>\n      <td>0.559494</td>\n    </tr>\n    <tr>\n      <th>NegsiRNA_E3_CA</th>\n      <td>NegsiRNA</td>\n      <td>E3</td>\n      <td>CA</td>\n      <td>0.273407</td>\n      <td>9684.988701</td>\n      <td>6795.547574</td>\n      <td>9237.0</td>\n      <td>4849.0</td>\n      <td>158</td>\n      <td>418.241897</td>\n      <td>...</td>\n      <td>398.624023</td>\n      <td>652.602112</td>\n      <td>3.663541</td>\n      <td>0.588857</td>\n      <td>3.677247</td>\n      <td>0.415929</td>\n      <td>3.870739</td>\n      <td>4.984301</td>\n      <td>4.994752</td>\n      <td>0.500610</td>\n    </tr>\n    <tr>\n      <th>CTNNA1_A3_NO</th>\n      <td>CTNNA1</td>\n      <td>A3</td>\n      <td>NO</td>\n      <td>0.153547</td>\n      <td>11816.662722</td>\n      <td>15246.811242</td>\n      <td>8115.0</td>\n      <td>7508.0</td>\n      <td>178</td>\n      <td>480.798606</td>\n      <td>...</td>\n      <td>279.118835</td>\n      <td>525.445984</td>\n      <td>3.328485</td>\n      <td>0.597775</td>\n      <td>3.338016</td>\n      <td>0.426792</td>\n      <td>3.273900</td>\n      <td>4.569930</td>\n      <td>4.580187</td>\n      <td>0.455083</td>\n    </tr>\n    <tr>\n      <th>NUMB_E3_CA</th>\n      <td>NUMB</td>\n      <td>E3</td>\n      <td>CA</td>\n      <td>0.271097</td>\n      <td>8729.426396</td>\n      <td>5398.034067</td>\n      <td>8229.0</td>\n      <td>3936.0</td>\n      <td>1946</td>\n      <td>391.571130</td>\n      <td>...</td>\n      <td>326.912415</td>\n      <td>576.452637</td>\n      <td>3.543888</td>\n      <td>0.565170</td>\n      <td>3.543282</td>\n      <td>0.403005</td>\n      <td>3.634047</td>\n      <td>4.776272</td>\n      <td>4.785130</td>\n      <td>0.453597</td>\n    </tr>\n    <tr>\n      <th>ENAH_B3_NO</th>\n      <td>ENAH</td>\n      <td>B3</td>\n      <td>NO</td>\n      <td>0.261689</td>\n      <td>10010.890805</td>\n      <td>7062.259261</td>\n      <td>8996.0</td>\n      <td>4996.0</td>\n      <td>45</td>\n      <td>440.324334</td>\n      <td>...</td>\n      <td>582.517944</td>\n      <td>1232.572144</td>\n      <td>4.054212</td>\n      <td>0.530159</td>\n      <td>4.078297</td>\n      <td>0.371750</td>\n      <td>4.248230</td>\n      <td>5.609815</td>\n      <td>5.623074</td>\n      <td>0.575680</td>\n    </tr>\n  </tbody>\n</table>\n<p>282 rows × 242 columns</p>\n</div>"
     },
     "metadata": {},
     "execution_count": 3
    }
   ],
   "source": [
    "df_features = pd.read_csv('../data/processed/2021-04-08_features.csv', index_col=0)\n",
    "df_features"
   ]
  },
  {
   "cell_type": "code",
   "execution_count": 4,
   "metadata": {},
   "outputs": [],
   "source": [
    "def get_broken_pixels(img):\n",
    "    total_pixels = img.shape[0] * img.shape[1]\n",
    "    broken_color = np.array([0, 0, 255])\n",
    "    broken_pixels = (img == broken_color).all(axis=-1)\n",
    "    n_broken = len(np.where(broken_pixels)[0])\n",
    "    return n_broken, n_broken / total_pixels, total_pixels"
   ]
  },
  {
   "cell_type": "code",
   "execution_count": 5,
   "metadata": {},
   "outputs": [
    {
     "output_type": "stream",
     "name": "stdout",
     "text": [
      "0 ILK_F1_NSj\n",
      "1 AJAP1_A2_NOj\n",
      "2 CDC42_A3_NOj\n",
      "3 AJAP1_A3_NOj\n",
      "4 MET_E1_NSj\n",
      "5 ACTN1_B2_NSj\n",
      "6 TUBA1B_I2_NOj\n",
      "7 PVRL1_I3_NOj\n",
      "8 SDC1_I2_NOj\n",
      "9 ENAH_B1_NOj\n",
      "10 RAPGEF2_G2_NSj\n",
      "11 TRIP6_H2_NSj\n",
      "12 ABI2_A1_NOj\n",
      "13 LIMA1_F2_NSj\n",
      "14 VEZT_G3_NSj\n",
      "15 RDX_H2_NOj\n",
      "16 PIK3CA_D1_NOj\n",
      "17 MET_E1_NOj\n",
      "18 SRGAP3_I1_NOj\n",
      "19 LMO7_F3_NOj\n",
      "20 PTPRJ_G1_NOj\n",
      "21 RDX_H1_NOj\n",
      "22 EPB4.1_B2_NOj\n",
      "23 BCAR1_B2_NSj\n",
      "24 ARHGAP4_A1b_NSj\n",
      "25 CDH1_B2_NSj\n",
      "26 PVRL1_I2_NSj\n",
      "27 CCNG1_L1_NOj\n",
      "28 GNB2L1_E3_NSj\n",
      "29 DYNC1H1_A1_NOj\n",
      "30 DNMBP_A3_NSj\n",
      "31 ENAH_B2_NSj\n",
      "32 DLG5_A3_NSj\n",
      "33 CDC42_A2_NOj\n",
      "34 ARHGEF2_A3_NOj\n",
      "35 EPB4.1_B3_NOj\n",
      "36 MYH9_F2_NOj\n",
      "37 ACTN1_B1_NSj\n",
      "38 ABI1_A2_NOj\n",
      "39 PTPRJ_G2_NOj\n",
      "40 TMOD3_I2_NSj\n",
      "41 ABL1_A3_NSj\n",
      "42 ARVCF_A1_NOj\n",
      "43 SRGAP2_I2_NOj\n",
      "44 CTNNA3_L2_NOj\n",
      "45 PLEKHA7_E2_NOj\n",
      "46 ROCK1_H1_NSj\n",
      "47 VEZT_G2_NSj\n",
      "48 GRLF1_C3_NSj\n",
      "49 RHOA_H1_NSj\n",
      "50 ITGA3_F3_NSj\n",
      "51 P2RX4_E1_NOj\n",
      "52 CTNNA2_L2_NSj\n",
      "53 ERBB2IP_C3c_NOj\n",
      "54 FBLIM1_C1_NOj\n",
      "55 WASF2_H1_NSj\n",
      "56 PIK3CA_D2_NOj\n",
      "57 DLG1_C1_NOj\n",
      "58 ARHGAP12_L2_NOj\n",
      "59 PTPRJ_G3_NOj\n",
      "60 CBLL1_A1_NSj\n",
      "61 TJP2_H1_NOj\n",
      "62 ARHGEF12_L2_NOj\n",
      "63 ARHGAP12_L3_NOj\n",
      "64 FYN_E1_NOj\n",
      "65 CTNNA2_L2_NOj\n",
      "66 ANK3_B1_NSj\n",
      "67 SCRIB_I2_NOj\n",
      "68 DNMBP_A1_NOj\n",
      "69 ACP1_B3_NOj\n",
      "70 TJP1_H1_NOj\n",
      "71 CDH1_B3_NOj\n",
      "72 GRLF1_L2_NOj\n",
      "73 GNB2L1_E1_NOj\n",
      "74 ARHGAP12_L2_NSj\n",
      "75 SDCBP_I2_NSj\n",
      "76 DIAP1_B2_NOj\n",
      "77 DIAP2_C1_NOj\n",
      "78 DIAP1_B1_NSj\n",
      "79 EPB4.1_B1_NOj\n",
      "80 DLG5_A3_NOj\n",
      "81 PVRL1_I1_NSj\n",
      "82 ITGB1_D2_NSj\n",
      "83 ADAM9_C1_NSj\n",
      "84 PSEN1_D3_NOj\n",
      "85 NUMB_E3_NOj\n",
      "86 DLG1_C1_NSj\n",
      "87 ABI1_A1b_NOj\n",
      "88 RHOA_H1_NOj\n",
      "89 PTPRM_H1_NOj\n",
      "90 LMO7_F2_NOj\n",
      "91 ABL1_A1_NOj\n",
      "92 SRGAP3_I2_NSj\n",
      "93 FMN1_D3_NSj\n",
      "94 PVRL1_I2_NOj\n",
      "95 TRPV4_L2_NSj\n",
      "96 TUBA1B_I1_NOj\n",
      "97 DIAP2_C1_NSj\n",
      "98 GRLF1_C2_NSj\n",
      "99 PTK2B_E2_NOj\n",
      "100 AKAP5_B1_NSj\n",
      "101 ACP1_B1_NOj\n",
      "102 TJP2_H1_NSj\n",
      "103 VEZT_G2_NOj\n",
      "104 MAPK1_D3_NOj\n",
      "105 CD151_A2_NOj\n",
      "106 ARHGAP32_C3c_NSj\n",
      "107 ITGB1_D3_NOj\n",
      "108 PTPRM_H2_NOj\n",
      "109 AKT1_B3_NOj\n",
      "110 FYN_E1_NSj\n",
      "111 VCL_G3_NOj\n",
      "112 JUP_D3_NOj\n",
      "113 PTPN6_G3_NOj\n",
      "114 PRKCD_D2_NOj\n",
      "115 CASP3_C3c_NOj\n",
      "116 ARHGEF2_A2_NOj\n",
      "117 TMOD3_I2_NOj\n",
      "118 VIM_H2_NOj\n",
      "119 MET_E3_NOj\n",
      "120 MYH9_F3_NOj\n",
      "121 ARHGAP10_C3c_NOj\n",
      "122 CSNK1E_A1b_NOj\n",
      "123 ARHGAP10_C3c_NSj\n",
      "124 GNA12_E2_NSj\n",
      "125 PKP4_E1_NSj\n",
      "126 SRGAP2_I1_NOj\n",
      "127 DNMBP_A1_NSj\n",
      "128 CSK_C1_NOj\n",
      "129 CAR9_B1_NOj\n",
      "130 TRPC4_I1_NOj\n",
      "131 MYH10_F1_NOj\n",
      "132 MAPK8_E1_NOj\n",
      "133 SYKB_G2_NOj\n",
      "134 SYKB_G3_NOj\n",
      "135 MLLT4_E1_NOj\n",
      "136 Sipa1L3_L2_NOj\n",
      "137 ABI1_A3_NSj\n",
      "138 CAMSAP3-2310057J16RIK_E1_NOj\n",
      "139 ARVCF_A2_NOj\n",
      "140 PTPRM_H1_NSj\n",
      "141 ARHGAP4_A3_NSj\n",
      "142 CTNNB1_A3_NSj\n",
      "143 CDC42_A1_NSj\n",
      "144 TRIOBP_H2_NOj\n",
      "145 ARVCF_A3_NOj\n",
      "146 WASL_H2_NOj\n",
      "147 FBLIM1_C2_NOj\n",
      "148 CTNND1_B1_NSj\n",
      "149 MYH10_F1_NSj\n",
      "150 PTPRJ_G2_NSj\n",
      "151 VASP_I2_NOj\n",
      "152 RAPGEF1_G3_NOj\n",
      "153 CAPN1_B1_NOj\n",
      "154 CTNND1_B1_NOj\n",
      "155 GRLF1_L2_NSj\n",
      "156 DLG5_A1b_NOj\n",
      "157 JUP_D3_NSj\n",
      "158 RAPGEF1_G2_NSj\n",
      "159 LPP_D2_NSj\n",
      "160 CDC42_A3_NSj\n",
      "161 PTEN_E1_NSj\n",
      "162 WIPF2_I1_NSj\n",
      "163 CSNK1E_A3_NSj\n",
      "164 FMN1_D3_NOj\n",
      "165 VASP_I2_NSj\n",
      "166 CASP3_C1_NOj\n",
      "167 DYNC1H1_A3_NOj\n",
      "168 RAC1_I2_NOj\n",
      "169 TRIO_H1_NOj\n",
      "170 CTNNB1_A2_NSj\n",
      "171 EPB4.1_B1_NSj\n",
      "172 FBLIM1_C1_NSj\n",
      "173 DYNC1H1_A2_NSj\n",
      "174 PTPRU_I2_NOj\n",
      "175 CASP3_C2_NOj\n",
      "176 ARHGEF2_A1b_NSj\n",
      "177 ADD3_A3_NSj\n",
      "178 DIAP1_B3_NSj\n",
      "179 PDZD2_F2_NOj\n",
      "180 ZYX_I1_NSj\n",
      "181 CDH1_B3_NSj\n",
      "182 PIK3CA_D1_NSj\n",
      "183 CEACAM1_B1_NSj\n",
      "184 TRPV4_L2_NOj\n",
      "185 CCNG1_L2_NOj\n",
      "186 TRIP6_H2_NOj\n",
      "187 EGFR_B3_NOj\n",
      "188 ITGB1_D2_NOj\n",
      "189 ARHGEF2_A1b_NOj\n",
      "190 RAP1A_G2_NOj\n",
      "191 CSNK1E_A3_NOj\n",
      "192 ABI2_A3_NOj\n",
      "193 TMOD3_I1_NOj\n",
      "194 PTK2B_E1_NOj\n",
      "195 DYNC1H1_A1_NSj\n",
      "196 TRPV4_L3_NOj\n",
      "197 ADD1_A1b_NOj\n",
      "198 ROCK1_H2_NSj\n",
      "199 SRC_H1_NOj\n",
      "200 CTNNA1_A3_NSj\n",
      "201 LPP_D3_NOj\n",
      "202 SDCBP_I1_NOj\n",
      "203 EGFR_B1_NOj\n",
      "204 ADD1_A2b_NOj\n",
      "205 PLEKHA7_E1_NOj\n",
      "206 PTPRJ_G1_NSj\n",
      "207 TRIO_H2_NSj\n",
      "208 ROCK1_H2_NOj\n",
      "209 PTK2B_E1_NSj\n",
      "210 TJP2_H2_NSj\n",
      "211 MAPK8_E1_NSj\n",
      "212 FERT2_D3_NOj\n",
      "213 ADAM10_C2_NOj\n",
      "214 VEZT_G3_NOj\n",
      "215 SORBS3_H1_NOj\n",
      "216 TRIO_H2_NOj\n",
      "217 ABI2_A1_NSj\n",
      "218 VIM_H2_NSj\n",
      "219 SDC1_I2_NSj\n",
      "220 ADD3_A1_NOj\n",
      "221 FERT2_D3_NSj\n",
      "222 GNA12_E1_NOj\n",
      "223 CTNNA3_L2_NSj\n",
      "224 CDC42_A1_NOj\n",
      "225 SPNB2_H1_NOj\n",
      "226 IQGAP1_F2_NOj\n",
      "227 ACTN4_L2_NSj\n",
      "228 CDH1_B1_NOj\n",
      "229 CGNL1_C3c_NOj\n",
      "230 ARVCF_A1_NSj\n",
      "231 EGFR_B2_NOj\n",
      "232 TRIO_H1_NSj\n",
      "233 ACTR3_C1_NOj\n",
      "234 SRGAP2_I2_NSj\n",
      "235 CTTN_B1_NOj\n",
      "236 TRIOBP_H1_NSj\n",
      "237 MAPK1_D3_NSj\n",
      "238 TRPV4_L3_NSj\n",
      "239 AJAP1_A3_NSj\n",
      "240 CBLL1_A2_NSj\n",
      "241 SORBS1_G2_NSj\n",
      "242 SRGAP3_I2_NOj\n",
      "243 CTNNA1_A1_NOj\n",
      "244 VCL_G2_NSj\n",
      "245 ACTN1_B1_NOj\n",
      "246 CD151_A3_NOj\n",
      "247 ARHGAP32_C3c_NOj\n",
      "248 ITGA3_F2_NSj\n",
      "249 ACTN1_B2_NOj\n",
      "250 TMOD1_I1_NOj\n",
      "251 CTNNB1_A1_NOj\n",
      "252 PRKCD_D3_NOj\n",
      "253 CTNNB1_A3_NOj\n",
      "254 SRGAP3_I3_NOj\n",
      "255 ADD1_A2b_NSj\n",
      "256 MAPK1_D1_NOj\n",
      "257 BCAR1_B1_NOj\n",
      "258 GRLF1_L3_NSj\n",
      "259 VIM_H1_NOj\n",
      "260 PTPRU_I1_NSj\n",
      "261 CTNNA1_A2_NOj\n",
      "262 DIAP1_B1_NOj\n",
      "263 PKD1_E3_NSj\n",
      "264 CTNNA3_L3_NOj\n",
      "265 VASP_I1_NOj\n",
      "266 RAC1_I1_NOj\n",
      "267 PKD1_E1_NSj\n",
      "268 KRIT1_E1_NOj\n",
      "269 CTTN_B2_NSj\n",
      "270 PTPRT_H2_NSj\n",
      "271 ARHGAP12_L3_NSj\n",
      "272 PTPRF_G2_NSj\n",
      "273 CD151_A3_NSj\n",
      "274 ABI2_A3_NSj\n",
      "275 ABL1_A1_NSj\n",
      "276 SRC_H2_NSj\n",
      "277 PTPN12_F2_NOj\n",
      "278 PPP2CA_F1_NOj\n",
      "279 RAC1_I2_NSj\n",
      "280 ARHGEF12_L2_NSj\n",
      "281 PTEN_E1_NOj\n",
      "282 CTNNA1_A2_NSj\n",
      "283 CCNG1_L2_NSj\n",
      "284 CD151_A1_NOj\n",
      "285 PKD1_E1_NOj\n",
      "286 SPNB2_H1_NSj\n",
      "287 CBLL1_A1_NOj\n",
      "288 SRC_H2_NOj\n",
      "289 DLG5_A2_NSj\n",
      "290 CDC42_A2_NSj\n",
      "291 ACTB_B1_NSj\n",
      "292 ABL1_A3_NOj\n",
      "293 ARHGEF12_L1_NOj\n",
      "294 CBLL1_A3_NOj\n",
      "295 P2RX4_E1_NSj\n",
      "296 DYNC1H1_A2_NOj\n",
      "297 TIAM1_H1_NOj\n",
      "298 ADD1_A3_NSj\n",
      "299 KEAP1_E1_NOj\n",
      "300 PTPRT_H2_NOj\n",
      "301 ERBB2IP_C1_NOj\n",
      "302 CDH1_B2_NOj\n",
      "303 SDC1_I1_NOj\n",
      "304 PLEKHA7_E3_NOj\n",
      "305 IQGAP1_F3_NOj\n",
      "306 PTPN1_E1_NSj\n",
      "307 ARHGEF2_A3_NSj\n",
      "308 TRIOBP_H1_NOj\n",
      "309 CAV1_C2_NOj\n",
      "310 SDCBP_I2_NOj\n",
      "311 SORBS1_G3_NOj\n",
      "312 IQGAP1_F3_NSj\n",
      "313 PIP5K1C_D3_NSj\n",
      "314 DNMBP_A2_NOj\n",
      "315 MYH9_F2_NSj\n",
      "316 ACTN4_L2_NOj\n",
      "317 ARVCF_A3_NSj\n",
      "318 CTNNA1_A1_NSj\n",
      "319 DNMBP_A3_NOj\n",
      "320 ABI1_A3_NOj\n",
      "321 CDH1_B1_NSj\n",
      "322 ITGA3_F3_NOj\n",
      "323 WASF2_H2_NOj\n",
      "324 TMOD1_I2_NSj\n",
      "325 SRGAP1_I1_NSj\n",
      "326 PTPRF_G3_NOj\n",
      "327 TJP1_H1_NSj\n",
      "328 RAPGEF2_G1_NSj\n",
      "329 NF2_D3_NOj\n",
      "330 RDX_H1_NSj\n",
      "331 CTNNA1_A3_NOj\n",
      "332 ARHGAP4_A3_NOj\n",
      "333 NUMB_E1_NSj\n",
      "334 ENAH_B3_NOj\n",
      "335 ITGA3_F2_NOj\n",
      "336 PVRL1_I1_NOj\n",
      "337 PLEKHA7_E1_NSj\n"
     ]
    }
   ],
   "source": [
    "data = {}\n",
    "for index, img_name_ext in enumerate(os.listdir(broken_imgs_dir)):\n",
    "    img_name, ext = os.path.splitext(img_name_ext)\n",
    "    if ext != '.tif':\n",
    "        continue\n",
    "    sample_name = img_name[:-1]\n",
    "    img = cv2.imread(os.path.join(broken_imgs_dir, img_name_ext))\n",
    "    data[sample_name] = get_broken_pixels(img)\n",
    "    print(index, img_name)"
   ]
  },
  {
   "cell_type": "code",
   "execution_count": 8,
   "metadata": {},
   "outputs": [
    {
     "output_type": "execute_result",
     "data": {
      "text/plain": [
       "               protein plate stimulus  n_pixels_broken  proportion_broken  \\\n",
       "ILK_F1_NS          ILK    F1       NS            16088           0.006819   \n",
       "AJAP1_A2_NO      AJAP1    A2       NO            18515           0.007848   \n",
       "CDC42_A3_NO      CDC42    A3       NO            38498           0.016318   \n",
       "AJAP1_A3_NO      AJAP1    A3       NO           130876           0.055472   \n",
       "MET_E1_NS          MET    E1       NS            24184           0.010251   \n",
       "...                ...   ...      ...              ...                ...   \n",
       "NUMB_E1_NS        NUMB    E1       NS             8594           0.003643   \n",
       "ENAH_B3_NO        ENAH    B3       NO            14355           0.006084   \n",
       "ITGA3_F2_NO      ITGA3    F2       NO           163387           0.069252   \n",
       "PVRL1_I1_NO      PVRL1    I1       NO             7658           0.003246   \n",
       "PLEKHA7_E1_NS  PLEKHA7    E1       NS            21761           0.009224   \n",
       "\n",
       "               total_pixels  dummy_y  \n",
       "ILK_F1_NS           2359296        0  \n",
       "AJAP1_A2_NO         2359296        0  \n",
       "CDC42_A3_NO         2359296        0  \n",
       "AJAP1_A3_NO         2359296        0  \n",
       "MET_E1_NS           2359296        0  \n",
       "...                     ...      ...  \n",
       "NUMB_E1_NS          2359296        0  \n",
       "ENAH_B3_NO          2359296        0  \n",
       "ITGA3_F2_NO         2359296        0  \n",
       "PVRL1_I1_NO         2359296        0  \n",
       "PLEKHA7_E1_NS       2359296        0  \n",
       "\n",
       "[338 rows x 7 columns]"
      ],
      "text/html": "<div>\n<style scoped>\n    .dataframe tbody tr th:only-of-type {\n        vertical-align: middle;\n    }\n\n    .dataframe tbody tr th {\n        vertical-align: top;\n    }\n\n    .dataframe thead th {\n        text-align: right;\n    }\n</style>\n<table border=\"1\" class=\"dataframe\">\n  <thead>\n    <tr style=\"text-align: right;\">\n      <th></th>\n      <th>protein</th>\n      <th>plate</th>\n      <th>stimulus</th>\n      <th>n_pixels_broken</th>\n      <th>proportion_broken</th>\n      <th>total_pixels</th>\n      <th>dummy_y</th>\n    </tr>\n  </thead>\n  <tbody>\n    <tr>\n      <th>ILK_F1_NS</th>\n      <td>ILK</td>\n      <td>F1</td>\n      <td>NS</td>\n      <td>16088</td>\n      <td>0.006819</td>\n      <td>2359296</td>\n      <td>0</td>\n    </tr>\n    <tr>\n      <th>AJAP1_A2_NO</th>\n      <td>AJAP1</td>\n      <td>A2</td>\n      <td>NO</td>\n      <td>18515</td>\n      <td>0.007848</td>\n      <td>2359296</td>\n      <td>0</td>\n    </tr>\n    <tr>\n      <th>CDC42_A3_NO</th>\n      <td>CDC42</td>\n      <td>A3</td>\n      <td>NO</td>\n      <td>38498</td>\n      <td>0.016318</td>\n      <td>2359296</td>\n      <td>0</td>\n    </tr>\n    <tr>\n      <th>AJAP1_A3_NO</th>\n      <td>AJAP1</td>\n      <td>A3</td>\n      <td>NO</td>\n      <td>130876</td>\n      <td>0.055472</td>\n      <td>2359296</td>\n      <td>0</td>\n    </tr>\n    <tr>\n      <th>MET_E1_NS</th>\n      <td>MET</td>\n      <td>E1</td>\n      <td>NS</td>\n      <td>24184</td>\n      <td>0.010251</td>\n      <td>2359296</td>\n      <td>0</td>\n    </tr>\n    <tr>\n      <th>...</th>\n      <td>...</td>\n      <td>...</td>\n      <td>...</td>\n      <td>...</td>\n      <td>...</td>\n      <td>...</td>\n      <td>...</td>\n    </tr>\n    <tr>\n      <th>NUMB_E1_NS</th>\n      <td>NUMB</td>\n      <td>E1</td>\n      <td>NS</td>\n      <td>8594</td>\n      <td>0.003643</td>\n      <td>2359296</td>\n      <td>0</td>\n    </tr>\n    <tr>\n      <th>ENAH_B3_NO</th>\n      <td>ENAH</td>\n      <td>B3</td>\n      <td>NO</td>\n      <td>14355</td>\n      <td>0.006084</td>\n      <td>2359296</td>\n      <td>0</td>\n    </tr>\n    <tr>\n      <th>ITGA3_F2_NO</th>\n      <td>ITGA3</td>\n      <td>F2</td>\n      <td>NO</td>\n      <td>163387</td>\n      <td>0.069252</td>\n      <td>2359296</td>\n      <td>0</td>\n    </tr>\n    <tr>\n      <th>PVRL1_I1_NO</th>\n      <td>PVRL1</td>\n      <td>I1</td>\n      <td>NO</td>\n      <td>7658</td>\n      <td>0.003246</td>\n      <td>2359296</td>\n      <td>0</td>\n    </tr>\n    <tr>\n      <th>PLEKHA7_E1_NS</th>\n      <td>PLEKHA7</td>\n      <td>E1</td>\n      <td>NS</td>\n      <td>21761</td>\n      <td>0.009224</td>\n      <td>2359296</td>\n      <td>0</td>\n    </tr>\n  </tbody>\n</table>\n<p>338 rows × 7 columns</p>\n</div>"
     },
     "metadata": {},
     "execution_count": 8
    }
   ],
   "source": [
    "df = pd.DataFrame.from_dict(data, columns = ['n_pixels_broken', 'proportion_broken', 'total_pixels'], orient='index')\n",
    "df.insert(0, 'protein', df.index.str.split(\"_\").str[0])\n",
    "df.insert(1, 'plate', df.index.str.split(\"_\").str[1])\n",
    "df.insert(2, 'stimulus', df.index.str.split(\"_\").str[2])\n",
    "df['dummy_y'] = 0\n",
    "df"
   ]
  },
  {
   "source": [
    "# Already known proteins"
   ],
   "cell_type": "markdown",
   "metadata": {}
  },
  {
   "cell_type": "code",
   "execution_count": 9,
   "metadata": {},
   "outputs": [
    {
     "output_type": "execute_result",
     "data": {
      "text/plain": [
       "{'ABL1_A1_NO',\n",
       " 'ABL1_A1_NS',\n",
       " 'ACTN1_B1_NO',\n",
       " 'ACTN1_B1_NS',\n",
       " 'ACTN1_B2_NO',\n",
       " 'ACTN1_B2_NS',\n",
       " 'ACTR3_C1_NO',\n",
       " 'ADD3_A1_NO',\n",
       " 'AKAP5_B1_NS',\n",
       " 'CAMSAP3-2310057J16RIK_E1_NO',\n",
       " 'CD151_A3_NO',\n",
       " 'CD151_A3_NS',\n",
       " 'CDH1_B1_NO',\n",
       " 'CDH1_B1_NS',\n",
       " 'CDH1_B2_NO',\n",
       " 'CDH1_B2_NS',\n",
       " 'CDH1_B3_NO',\n",
       " 'CDH1_B3_NS',\n",
       " 'CTNNA1_A1_NO',\n",
       " 'CTNNA1_A1_NS',\n",
       " 'CTNNA1_A2_NO',\n",
       " 'CTNNA1_A2_NS',\n",
       " 'CTNNA1_A3_NO',\n",
       " 'CTNNA1_A3_NS',\n",
       " 'CTNNB1_A1_NO',\n",
       " 'CTNNB1_A2_NS',\n",
       " 'CTNNB1_A3_NO',\n",
       " 'CTNNB1_A3_NS',\n",
       " 'CTNND1_B1_NO',\n",
       " 'CTNND1_B1_NS',\n",
       " 'DNMBP_A3_NO',\n",
       " 'DNMBP_A3_NS',\n",
       " 'ENAH_B3_NO',\n",
       " 'GNA12_E1_NO',\n",
       " 'GNB2L1_E1_NO',\n",
       " 'GNB2L1_E3_NS',\n",
       " 'JUP_D3_NO',\n",
       " 'JUP_D3_NS',\n",
       " 'KEAP1_E1_NO',\n",
       " 'NUMB_E3_NO',\n",
       " 'P2RX4_E1_NO',\n",
       " 'P2RX4_E1_NS',\n",
       " 'VASP_I2_NO',\n",
       " 'VASP_I2_NS',\n",
       " 'VCL_G2_NS',\n",
       " 'VCL_G3_NO',\n",
       " 'VIM_H1_NO',\n",
       " 'VIM_H2_NO',\n",
       " 'VIM_H2_NS'}"
      ]
     },
     "metadata": {},
     "execution_count": 9
    }
   ],
   "source": [
    "common_proteins = set(df_features.index).intersection(set(df.index))\n",
    "common_proteins"
   ]
  },
  {
   "cell_type": "code",
   "execution_count": 12,
   "metadata": {},
   "outputs": [
    {
     "output_type": "display_data",
     "data": {
      "application/vnd.plotly.v1+json": {
       "config": {
        "plotlyServerURL": "https://plot.ly"
       },
       "data": [
        {
         "alignmentgroup": "True",
         "bingroup": "x",
         "hovertemplate": "stimulus=NS<br>proportion_broken=%{x}<br>count=%{y}<extra></extra>",
         "legendgroup": "NS",
         "marker": {
          "color": "#636efa"
         },
         "name": "NS",
         "offsetgroup": "NS",
         "orientation": "v",
         "showlegend": true,
         "type": "histogram",
         "x": [
          0.00446319580078125,
          0.22156312730577257,
          0.005666097005208333,
          0.005612691243489583,
          0.0014292399088541667,
          0.005394829644097222,
          0.01628663804796007,
          0.003020816379123264,
          0.010603586832682291,
          0.07444000244140625,
          0.007626003689236111,
          0.19792641533745658,
          0.01694276597764757,
          0.006008572048611111,
          0.004550086127387153,
          0.004464891221788194,
          0.0036523607042100695,
          0.010634528266059028,
          0.006717681884765625,
          0.10171212090386285,
          0.010427263047960069
         ],
         "xaxis": "x",
         "yaxis": "y"
        },
        {
         "alignmentgroup": "True",
         "bingroup": "x",
         "hovertemplate": "stimulus=NO<br>proportion_broken=%{x}<br>count=%{y}<extra></extra>",
         "legendgroup": "NO",
         "marker": {
          "color": "#EF553B"
         },
         "name": "NO",
         "offsetgroup": "NO",
         "orientation": "v",
         "showlegend": true,
         "type": "histogram",
         "x": [
          0.026078965928819444,
          0.43447240193684894,
          0.03801854451497396,
          0.003912607828776042,
          0.004758622911241319,
          0.0018450419108072917,
          0.007754007975260417,
          0.02137459648980035,
          0.06795035468207465,
          0.03337266710069445,
          0.0035565694173177085,
          0.007569207085503472,
          0.018677605523003474,
          0.12974972195095485,
          0.030112796359592013,
          0.04644817776150174,
          0.004089779324001736,
          0.10993321736653645,
          0.014714558919270834,
          0.19523451063368055,
          0.009936014811197916,
          0.004661136203342014,
          0.010219150119357638,
          0.027509901258680556,
          0.41262563069661456,
          0.020348866780598957,
          0.01694276597764757,
          0.006084442138671875
         ],
         "xaxis": "x",
         "yaxis": "y"
        }
       ],
       "layout": {
        "barmode": "relative",
        "legend": {
         "title": {
          "text": "stimulus"
         },
         "tracegroupgap": 0
        },
        "margin": {
         "t": 60
        },
        "template": {
         "data": {
          "bar": [
           {
            "error_x": {
             "color": "#2a3f5f"
            },
            "error_y": {
             "color": "#2a3f5f"
            },
            "marker": {
             "line": {
              "color": "#E5ECF6",
              "width": 0.5
             }
            },
            "type": "bar"
           }
          ],
          "barpolar": [
           {
            "marker": {
             "line": {
              "color": "#E5ECF6",
              "width": 0.5
             }
            },
            "type": "barpolar"
           }
          ],
          "carpet": [
           {
            "aaxis": {
             "endlinecolor": "#2a3f5f",
             "gridcolor": "white",
             "linecolor": "white",
             "minorgridcolor": "white",
             "startlinecolor": "#2a3f5f"
            },
            "baxis": {
             "endlinecolor": "#2a3f5f",
             "gridcolor": "white",
             "linecolor": "white",
             "minorgridcolor": "white",
             "startlinecolor": "#2a3f5f"
            },
            "type": "carpet"
           }
          ],
          "choropleth": [
           {
            "colorbar": {
             "outlinewidth": 0,
             "ticks": ""
            },
            "type": "choropleth"
           }
          ],
          "contour": [
           {
            "colorbar": {
             "outlinewidth": 0,
             "ticks": ""
            },
            "colorscale": [
             [
              0,
              "#0d0887"
             ],
             [
              0.1111111111111111,
              "#46039f"
             ],
             [
              0.2222222222222222,
              "#7201a8"
             ],
             [
              0.3333333333333333,
              "#9c179e"
             ],
             [
              0.4444444444444444,
              "#bd3786"
             ],
             [
              0.5555555555555556,
              "#d8576b"
             ],
             [
              0.6666666666666666,
              "#ed7953"
             ],
             [
              0.7777777777777778,
              "#fb9f3a"
             ],
             [
              0.8888888888888888,
              "#fdca26"
             ],
             [
              1,
              "#f0f921"
             ]
            ],
            "type": "contour"
           }
          ],
          "contourcarpet": [
           {
            "colorbar": {
             "outlinewidth": 0,
             "ticks": ""
            },
            "type": "contourcarpet"
           }
          ],
          "heatmap": [
           {
            "colorbar": {
             "outlinewidth": 0,
             "ticks": ""
            },
            "colorscale": [
             [
              0,
              "#0d0887"
             ],
             [
              0.1111111111111111,
              "#46039f"
             ],
             [
              0.2222222222222222,
              "#7201a8"
             ],
             [
              0.3333333333333333,
              "#9c179e"
             ],
             [
              0.4444444444444444,
              "#bd3786"
             ],
             [
              0.5555555555555556,
              "#d8576b"
             ],
             [
              0.6666666666666666,
              "#ed7953"
             ],
             [
              0.7777777777777778,
              "#fb9f3a"
             ],
             [
              0.8888888888888888,
              "#fdca26"
             ],
             [
              1,
              "#f0f921"
             ]
            ],
            "type": "heatmap"
           }
          ],
          "heatmapgl": [
           {
            "colorbar": {
             "outlinewidth": 0,
             "ticks": ""
            },
            "colorscale": [
             [
              0,
              "#0d0887"
             ],
             [
              0.1111111111111111,
              "#46039f"
             ],
             [
              0.2222222222222222,
              "#7201a8"
             ],
             [
              0.3333333333333333,
              "#9c179e"
             ],
             [
              0.4444444444444444,
              "#bd3786"
             ],
             [
              0.5555555555555556,
              "#d8576b"
             ],
             [
              0.6666666666666666,
              "#ed7953"
             ],
             [
              0.7777777777777778,
              "#fb9f3a"
             ],
             [
              0.8888888888888888,
              "#fdca26"
             ],
             [
              1,
              "#f0f921"
             ]
            ],
            "type": "heatmapgl"
           }
          ],
          "histogram": [
           {
            "marker": {
             "colorbar": {
              "outlinewidth": 0,
              "ticks": ""
             }
            },
            "type": "histogram"
           }
          ],
          "histogram2d": [
           {
            "colorbar": {
             "outlinewidth": 0,
             "ticks": ""
            },
            "colorscale": [
             [
              0,
              "#0d0887"
             ],
             [
              0.1111111111111111,
              "#46039f"
             ],
             [
              0.2222222222222222,
              "#7201a8"
             ],
             [
              0.3333333333333333,
              "#9c179e"
             ],
             [
              0.4444444444444444,
              "#bd3786"
             ],
             [
              0.5555555555555556,
              "#d8576b"
             ],
             [
              0.6666666666666666,
              "#ed7953"
             ],
             [
              0.7777777777777778,
              "#fb9f3a"
             ],
             [
              0.8888888888888888,
              "#fdca26"
             ],
             [
              1,
              "#f0f921"
             ]
            ],
            "type": "histogram2d"
           }
          ],
          "histogram2dcontour": [
           {
            "colorbar": {
             "outlinewidth": 0,
             "ticks": ""
            },
            "colorscale": [
             [
              0,
              "#0d0887"
             ],
             [
              0.1111111111111111,
              "#46039f"
             ],
             [
              0.2222222222222222,
              "#7201a8"
             ],
             [
              0.3333333333333333,
              "#9c179e"
             ],
             [
              0.4444444444444444,
              "#bd3786"
             ],
             [
              0.5555555555555556,
              "#d8576b"
             ],
             [
              0.6666666666666666,
              "#ed7953"
             ],
             [
              0.7777777777777778,
              "#fb9f3a"
             ],
             [
              0.8888888888888888,
              "#fdca26"
             ],
             [
              1,
              "#f0f921"
             ]
            ],
            "type": "histogram2dcontour"
           }
          ],
          "mesh3d": [
           {
            "colorbar": {
             "outlinewidth": 0,
             "ticks": ""
            },
            "type": "mesh3d"
           }
          ],
          "parcoords": [
           {
            "line": {
             "colorbar": {
              "outlinewidth": 0,
              "ticks": ""
             }
            },
            "type": "parcoords"
           }
          ],
          "pie": [
           {
            "automargin": true,
            "type": "pie"
           }
          ],
          "scatter": [
           {
            "marker": {
             "colorbar": {
              "outlinewidth": 0,
              "ticks": ""
             }
            },
            "type": "scatter"
           }
          ],
          "scatter3d": [
           {
            "line": {
             "colorbar": {
              "outlinewidth": 0,
              "ticks": ""
             }
            },
            "marker": {
             "colorbar": {
              "outlinewidth": 0,
              "ticks": ""
             }
            },
            "type": "scatter3d"
           }
          ],
          "scattercarpet": [
           {
            "marker": {
             "colorbar": {
              "outlinewidth": 0,
              "ticks": ""
             }
            },
            "type": "scattercarpet"
           }
          ],
          "scattergeo": [
           {
            "marker": {
             "colorbar": {
              "outlinewidth": 0,
              "ticks": ""
             }
            },
            "type": "scattergeo"
           }
          ],
          "scattergl": [
           {
            "marker": {
             "colorbar": {
              "outlinewidth": 0,
              "ticks": ""
             }
            },
            "type": "scattergl"
           }
          ],
          "scattermapbox": [
           {
            "marker": {
             "colorbar": {
              "outlinewidth": 0,
              "ticks": ""
             }
            },
            "type": "scattermapbox"
           }
          ],
          "scatterpolar": [
           {
            "marker": {
             "colorbar": {
              "outlinewidth": 0,
              "ticks": ""
             }
            },
            "type": "scatterpolar"
           }
          ],
          "scatterpolargl": [
           {
            "marker": {
             "colorbar": {
              "outlinewidth": 0,
              "ticks": ""
             }
            },
            "type": "scatterpolargl"
           }
          ],
          "scatterternary": [
           {
            "marker": {
             "colorbar": {
              "outlinewidth": 0,
              "ticks": ""
             }
            },
            "type": "scatterternary"
           }
          ],
          "surface": [
           {
            "colorbar": {
             "outlinewidth": 0,
             "ticks": ""
            },
            "colorscale": [
             [
              0,
              "#0d0887"
             ],
             [
              0.1111111111111111,
              "#46039f"
             ],
             [
              0.2222222222222222,
              "#7201a8"
             ],
             [
              0.3333333333333333,
              "#9c179e"
             ],
             [
              0.4444444444444444,
              "#bd3786"
             ],
             [
              0.5555555555555556,
              "#d8576b"
             ],
             [
              0.6666666666666666,
              "#ed7953"
             ],
             [
              0.7777777777777778,
              "#fb9f3a"
             ],
             [
              0.8888888888888888,
              "#fdca26"
             ],
             [
              1,
              "#f0f921"
             ]
            ],
            "type": "surface"
           }
          ],
          "table": [
           {
            "cells": {
             "fill": {
              "color": "#EBF0F8"
             },
             "line": {
              "color": "white"
             }
            },
            "header": {
             "fill": {
              "color": "#C8D4E3"
             },
             "line": {
              "color": "white"
             }
            },
            "type": "table"
           }
          ]
         },
         "layout": {
          "annotationdefaults": {
           "arrowcolor": "#2a3f5f",
           "arrowhead": 0,
           "arrowwidth": 1
          },
          "autotypenumbers": "strict",
          "coloraxis": {
           "colorbar": {
            "outlinewidth": 0,
            "ticks": ""
           }
          },
          "colorscale": {
           "diverging": [
            [
             0,
             "#8e0152"
            ],
            [
             0.1,
             "#c51b7d"
            ],
            [
             0.2,
             "#de77ae"
            ],
            [
             0.3,
             "#f1b6da"
            ],
            [
             0.4,
             "#fde0ef"
            ],
            [
             0.5,
             "#f7f7f7"
            ],
            [
             0.6,
             "#e6f5d0"
            ],
            [
             0.7,
             "#b8e186"
            ],
            [
             0.8,
             "#7fbc41"
            ],
            [
             0.9,
             "#4d9221"
            ],
            [
             1,
             "#276419"
            ]
           ],
           "sequential": [
            [
             0,
             "#0d0887"
            ],
            [
             0.1111111111111111,
             "#46039f"
            ],
            [
             0.2222222222222222,
             "#7201a8"
            ],
            [
             0.3333333333333333,
             "#9c179e"
            ],
            [
             0.4444444444444444,
             "#bd3786"
            ],
            [
             0.5555555555555556,
             "#d8576b"
            ],
            [
             0.6666666666666666,
             "#ed7953"
            ],
            [
             0.7777777777777778,
             "#fb9f3a"
            ],
            [
             0.8888888888888888,
             "#fdca26"
            ],
            [
             1,
             "#f0f921"
            ]
           ],
           "sequentialminus": [
            [
             0,
             "#0d0887"
            ],
            [
             0.1111111111111111,
             "#46039f"
            ],
            [
             0.2222222222222222,
             "#7201a8"
            ],
            [
             0.3333333333333333,
             "#9c179e"
            ],
            [
             0.4444444444444444,
             "#bd3786"
            ],
            [
             0.5555555555555556,
             "#d8576b"
            ],
            [
             0.6666666666666666,
             "#ed7953"
            ],
            [
             0.7777777777777778,
             "#fb9f3a"
            ],
            [
             0.8888888888888888,
             "#fdca26"
            ],
            [
             1,
             "#f0f921"
            ]
           ]
          },
          "colorway": [
           "#636efa",
           "#EF553B",
           "#00cc96",
           "#ab63fa",
           "#FFA15A",
           "#19d3f3",
           "#FF6692",
           "#B6E880",
           "#FF97FF",
           "#FECB52"
          ],
          "font": {
           "color": "#2a3f5f"
          },
          "geo": {
           "bgcolor": "white",
           "lakecolor": "white",
           "landcolor": "#E5ECF6",
           "showlakes": true,
           "showland": true,
           "subunitcolor": "white"
          },
          "hoverlabel": {
           "align": "left"
          },
          "hovermode": "closest",
          "mapbox": {
           "style": "light"
          },
          "paper_bgcolor": "white",
          "plot_bgcolor": "#E5ECF6",
          "polar": {
           "angularaxis": {
            "gridcolor": "white",
            "linecolor": "white",
            "ticks": ""
           },
           "bgcolor": "#E5ECF6",
           "radialaxis": {
            "gridcolor": "white",
            "linecolor": "white",
            "ticks": ""
           }
          },
          "scene": {
           "xaxis": {
            "backgroundcolor": "#E5ECF6",
            "gridcolor": "white",
            "gridwidth": 2,
            "linecolor": "white",
            "showbackground": true,
            "ticks": "",
            "zerolinecolor": "white"
           },
           "yaxis": {
            "backgroundcolor": "#E5ECF6",
            "gridcolor": "white",
            "gridwidth": 2,
            "linecolor": "white",
            "showbackground": true,
            "ticks": "",
            "zerolinecolor": "white"
           },
           "zaxis": {
            "backgroundcolor": "#E5ECF6",
            "gridcolor": "white",
            "gridwidth": 2,
            "linecolor": "white",
            "showbackground": true,
            "ticks": "",
            "zerolinecolor": "white"
           }
          },
          "shapedefaults": {
           "line": {
            "color": "#2a3f5f"
           }
          },
          "ternary": {
           "aaxis": {
            "gridcolor": "white",
            "linecolor": "white",
            "ticks": ""
           },
           "baxis": {
            "gridcolor": "white",
            "linecolor": "white",
            "ticks": ""
           },
           "bgcolor": "#E5ECF6",
           "caxis": {
            "gridcolor": "white",
            "linecolor": "white",
            "ticks": ""
           }
          },
          "title": {
           "x": 0.05
          },
          "xaxis": {
           "automargin": true,
           "gridcolor": "white",
           "linecolor": "white",
           "ticks": "",
           "title": {
            "standoff": 15
           },
           "zerolinecolor": "white",
           "zerolinewidth": 2
          },
          "yaxis": {
           "automargin": true,
           "gridcolor": "white",
           "linecolor": "white",
           "ticks": "",
           "title": {
            "standoff": 15
           },
           "zerolinecolor": "white",
           "zerolinewidth": 2
          }
         }
        },
        "xaxis": {
         "anchor": "y",
         "domain": [
          0,
          1
         ],
         "title": {
          "text": "proportion_broken"
         }
        },
        "yaxis": {
         "anchor": "x",
         "domain": [
          0,
          1
         ],
         "title": {
          "text": "count"
         }
        }
       }
      }
     },
     "metadata": {}
    }
   ],
   "source": [
    "df_common = df[df.index.isin(common_proteins)]\n",
    "px.histogram(df_common, x='proportion_broken', color='stimulus')"
   ]
  },
  {
   "cell_type": "code",
   "execution_count": 10,
   "metadata": {},
   "outputs": [
    {
     "output_type": "display_data",
     "data": {
      "application/vnd.plotly.v1+json": {
       "config": {
        "plotlyServerURL": "https://plot.ly"
       },
       "data": [
        {
         "hovertemplate": "<b>%{hovertext}</b><br><br>stimulus=NS<br>proportion_broken=%{x}<br>=%{y}<extra></extra>",
         "hovertext": [
          "ACTN1_B2_NS",
          "CDH1_B2_NS",
          "GNB2L1_E3_NS",
          "DNMBP_A3_NS",
          "ACTN1_B1_NS",
          "AKAP5_B1_NS",
          "CTNNB1_A3_NS",
          "CTNND1_B1_NS",
          "JUP_D3_NS",
          "VASP_I2_NS",
          "CTNNB1_A2_NS",
          "CDH1_B3_NS",
          "CTNNA1_A3_NS",
          "VIM_H2_NS",
          "VCL_G2_NS",
          "CD151_A3_NS",
          "ABL1_A1_NS",
          "CTNNA1_A2_NS",
          "P2RX4_E1_NS",
          "CTNNA1_A1_NS",
          "CDH1_B1_NS"
         ],
         "legendgroup": "NS",
         "marker": {
          "color": "#636efa",
          "symbol": "circle"
         },
         "mode": "markers",
         "name": "NS",
         "orientation": "v",
         "showlegend": true,
         "type": "scatter",
         "x": [
          0.00446319580078125,
          0.22156312730577257,
          0.005666097005208333,
          0.005612691243489583,
          0.0014292399088541667,
          0.005394829644097222,
          0.01628663804796007,
          0.003020816379123264,
          0.010603586832682291,
          0.07444000244140625,
          0.007626003689236111,
          0.19792641533745658,
          0.01694276597764757,
          0.006008572048611111,
          0.004550086127387153,
          0.004464891221788194,
          0.0036523607042100695,
          0.010634528266059028,
          0.006717681884765625,
          0.10171212090386285,
          0.010427263047960069
         ],
         "xaxis": "x",
         "y": [
          0,
          0,
          0,
          0,
          0,
          0,
          0,
          0,
          0,
          0,
          0,
          0,
          0,
          0,
          0,
          0,
          0,
          0,
          0,
          0,
          0
         ],
         "yaxis": "y"
        },
        {
         "hovertemplate": "<b>%{hovertext}</b><br><br>stimulus=NO<br>proportion_broken=%{x}<br>=%{y}<extra></extra>",
         "hovertext": [
          "P2RX4_E1_NO",
          "CDH1_B3_NO",
          "GNB2L1_E1_NO",
          "NUMB_E3_NO",
          "ABL1_A1_NO",
          "VCL_G3_NO",
          "JUP_D3_NO",
          "VIM_H2_NO",
          "CAMSAP3-2310057J16RIK_E1_NO",
          "VASP_I2_NO",
          "CTNND1_B1_NO",
          "ADD3_A1_NO",
          "GNA12_E1_NO",
          "CDH1_B1_NO",
          "ACTR3_C1_NO",
          "CTNNA1_A1_NO",
          "ACTN1_B1_NO",
          "CD151_A3_NO",
          "ACTN1_B2_NO",
          "CTNNB1_A1_NO",
          "CTNNB1_A3_NO",
          "VIM_H1_NO",
          "CTNNA1_A2_NO",
          "KEAP1_E1_NO",
          "CDH1_B2_NO",
          "DNMBP_A3_NO",
          "CTNNA1_A3_NO",
          "ENAH_B3_NO"
         ],
         "legendgroup": "NO",
         "marker": {
          "color": "#EF553B",
          "symbol": "circle"
         },
         "mode": "markers",
         "name": "NO",
         "orientation": "v",
         "showlegend": true,
         "type": "scatter",
         "x": [
          0.026078965928819444,
          0.43447240193684894,
          0.03801854451497396,
          0.003912607828776042,
          0.004758622911241319,
          0.0018450419108072917,
          0.007754007975260417,
          0.02137459648980035,
          0.06795035468207465,
          0.03337266710069445,
          0.0035565694173177085,
          0.007569207085503472,
          0.018677605523003474,
          0.12974972195095485,
          0.030112796359592013,
          0.04644817776150174,
          0.004089779324001736,
          0.10993321736653645,
          0.014714558919270834,
          0.19523451063368055,
          0.009936014811197916,
          0.004661136203342014,
          0.010219150119357638,
          0.027509901258680556,
          0.41262563069661456,
          0.020348866780598957,
          0.01694276597764757,
          0.006084442138671875
         ],
         "xaxis": "x",
         "y": [
          0,
          0,
          0,
          0,
          0,
          0,
          0,
          0,
          0,
          0,
          0,
          0,
          0,
          0,
          0,
          0,
          0,
          0,
          0,
          0,
          0,
          0,
          0,
          0,
          0,
          0,
          0,
          0
         ],
         "yaxis": "y"
        }
       ],
       "layout": {
        "legend": {
         "title": {
          "text": "stimulus"
         },
         "tracegroupgap": 0
        },
        "margin": {
         "t": 60
        },
        "template": {
         "data": {
          "bar": [
           {
            "error_x": {
             "color": "#2a3f5f"
            },
            "error_y": {
             "color": "#2a3f5f"
            },
            "marker": {
             "line": {
              "color": "#E5ECF6",
              "width": 0.5
             }
            },
            "type": "bar"
           }
          ],
          "barpolar": [
           {
            "marker": {
             "line": {
              "color": "#E5ECF6",
              "width": 0.5
             }
            },
            "type": "barpolar"
           }
          ],
          "carpet": [
           {
            "aaxis": {
             "endlinecolor": "#2a3f5f",
             "gridcolor": "white",
             "linecolor": "white",
             "minorgridcolor": "white",
             "startlinecolor": "#2a3f5f"
            },
            "baxis": {
             "endlinecolor": "#2a3f5f",
             "gridcolor": "white",
             "linecolor": "white",
             "minorgridcolor": "white",
             "startlinecolor": "#2a3f5f"
            },
            "type": "carpet"
           }
          ],
          "choropleth": [
           {
            "colorbar": {
             "outlinewidth": 0,
             "ticks": ""
            },
            "type": "choropleth"
           }
          ],
          "contour": [
           {
            "colorbar": {
             "outlinewidth": 0,
             "ticks": ""
            },
            "colorscale": [
             [
              0,
              "#0d0887"
             ],
             [
              0.1111111111111111,
              "#46039f"
             ],
             [
              0.2222222222222222,
              "#7201a8"
             ],
             [
              0.3333333333333333,
              "#9c179e"
             ],
             [
              0.4444444444444444,
              "#bd3786"
             ],
             [
              0.5555555555555556,
              "#d8576b"
             ],
             [
              0.6666666666666666,
              "#ed7953"
             ],
             [
              0.7777777777777778,
              "#fb9f3a"
             ],
             [
              0.8888888888888888,
              "#fdca26"
             ],
             [
              1,
              "#f0f921"
             ]
            ],
            "type": "contour"
           }
          ],
          "contourcarpet": [
           {
            "colorbar": {
             "outlinewidth": 0,
             "ticks": ""
            },
            "type": "contourcarpet"
           }
          ],
          "heatmap": [
           {
            "colorbar": {
             "outlinewidth": 0,
             "ticks": ""
            },
            "colorscale": [
             [
              0,
              "#0d0887"
             ],
             [
              0.1111111111111111,
              "#46039f"
             ],
             [
              0.2222222222222222,
              "#7201a8"
             ],
             [
              0.3333333333333333,
              "#9c179e"
             ],
             [
              0.4444444444444444,
              "#bd3786"
             ],
             [
              0.5555555555555556,
              "#d8576b"
             ],
             [
              0.6666666666666666,
              "#ed7953"
             ],
             [
              0.7777777777777778,
              "#fb9f3a"
             ],
             [
              0.8888888888888888,
              "#fdca26"
             ],
             [
              1,
              "#f0f921"
             ]
            ],
            "type": "heatmap"
           }
          ],
          "heatmapgl": [
           {
            "colorbar": {
             "outlinewidth": 0,
             "ticks": ""
            },
            "colorscale": [
             [
              0,
              "#0d0887"
             ],
             [
              0.1111111111111111,
              "#46039f"
             ],
             [
              0.2222222222222222,
              "#7201a8"
             ],
             [
              0.3333333333333333,
              "#9c179e"
             ],
             [
              0.4444444444444444,
              "#bd3786"
             ],
             [
              0.5555555555555556,
              "#d8576b"
             ],
             [
              0.6666666666666666,
              "#ed7953"
             ],
             [
              0.7777777777777778,
              "#fb9f3a"
             ],
             [
              0.8888888888888888,
              "#fdca26"
             ],
             [
              1,
              "#f0f921"
             ]
            ],
            "type": "heatmapgl"
           }
          ],
          "histogram": [
           {
            "marker": {
             "colorbar": {
              "outlinewidth": 0,
              "ticks": ""
             }
            },
            "type": "histogram"
           }
          ],
          "histogram2d": [
           {
            "colorbar": {
             "outlinewidth": 0,
             "ticks": ""
            },
            "colorscale": [
             [
              0,
              "#0d0887"
             ],
             [
              0.1111111111111111,
              "#46039f"
             ],
             [
              0.2222222222222222,
              "#7201a8"
             ],
             [
              0.3333333333333333,
              "#9c179e"
             ],
             [
              0.4444444444444444,
              "#bd3786"
             ],
             [
              0.5555555555555556,
              "#d8576b"
             ],
             [
              0.6666666666666666,
              "#ed7953"
             ],
             [
              0.7777777777777778,
              "#fb9f3a"
             ],
             [
              0.8888888888888888,
              "#fdca26"
             ],
             [
              1,
              "#f0f921"
             ]
            ],
            "type": "histogram2d"
           }
          ],
          "histogram2dcontour": [
           {
            "colorbar": {
             "outlinewidth": 0,
             "ticks": ""
            },
            "colorscale": [
             [
              0,
              "#0d0887"
             ],
             [
              0.1111111111111111,
              "#46039f"
             ],
             [
              0.2222222222222222,
              "#7201a8"
             ],
             [
              0.3333333333333333,
              "#9c179e"
             ],
             [
              0.4444444444444444,
              "#bd3786"
             ],
             [
              0.5555555555555556,
              "#d8576b"
             ],
             [
              0.6666666666666666,
              "#ed7953"
             ],
             [
              0.7777777777777778,
              "#fb9f3a"
             ],
             [
              0.8888888888888888,
              "#fdca26"
             ],
             [
              1,
              "#f0f921"
             ]
            ],
            "type": "histogram2dcontour"
           }
          ],
          "mesh3d": [
           {
            "colorbar": {
             "outlinewidth": 0,
             "ticks": ""
            },
            "type": "mesh3d"
           }
          ],
          "parcoords": [
           {
            "line": {
             "colorbar": {
              "outlinewidth": 0,
              "ticks": ""
             }
            },
            "type": "parcoords"
           }
          ],
          "pie": [
           {
            "automargin": true,
            "type": "pie"
           }
          ],
          "scatter": [
           {
            "marker": {
             "colorbar": {
              "outlinewidth": 0,
              "ticks": ""
             }
            },
            "type": "scatter"
           }
          ],
          "scatter3d": [
           {
            "line": {
             "colorbar": {
              "outlinewidth": 0,
              "ticks": ""
             }
            },
            "marker": {
             "colorbar": {
              "outlinewidth": 0,
              "ticks": ""
             }
            },
            "type": "scatter3d"
           }
          ],
          "scattercarpet": [
           {
            "marker": {
             "colorbar": {
              "outlinewidth": 0,
              "ticks": ""
             }
            },
            "type": "scattercarpet"
           }
          ],
          "scattergeo": [
           {
            "marker": {
             "colorbar": {
              "outlinewidth": 0,
              "ticks": ""
             }
            },
            "type": "scattergeo"
           }
          ],
          "scattergl": [
           {
            "marker": {
             "colorbar": {
              "outlinewidth": 0,
              "ticks": ""
             }
            },
            "type": "scattergl"
           }
          ],
          "scattermapbox": [
           {
            "marker": {
             "colorbar": {
              "outlinewidth": 0,
              "ticks": ""
             }
            },
            "type": "scattermapbox"
           }
          ],
          "scatterpolar": [
           {
            "marker": {
             "colorbar": {
              "outlinewidth": 0,
              "ticks": ""
             }
            },
            "type": "scatterpolar"
           }
          ],
          "scatterpolargl": [
           {
            "marker": {
             "colorbar": {
              "outlinewidth": 0,
              "ticks": ""
             }
            },
            "type": "scatterpolargl"
           }
          ],
          "scatterternary": [
           {
            "marker": {
             "colorbar": {
              "outlinewidth": 0,
              "ticks": ""
             }
            },
            "type": "scatterternary"
           }
          ],
          "surface": [
           {
            "colorbar": {
             "outlinewidth": 0,
             "ticks": ""
            },
            "colorscale": [
             [
              0,
              "#0d0887"
             ],
             [
              0.1111111111111111,
              "#46039f"
             ],
             [
              0.2222222222222222,
              "#7201a8"
             ],
             [
              0.3333333333333333,
              "#9c179e"
             ],
             [
              0.4444444444444444,
              "#bd3786"
             ],
             [
              0.5555555555555556,
              "#d8576b"
             ],
             [
              0.6666666666666666,
              "#ed7953"
             ],
             [
              0.7777777777777778,
              "#fb9f3a"
             ],
             [
              0.8888888888888888,
              "#fdca26"
             ],
             [
              1,
              "#f0f921"
             ]
            ],
            "type": "surface"
           }
          ],
          "table": [
           {
            "cells": {
             "fill": {
              "color": "#EBF0F8"
             },
             "line": {
              "color": "white"
             }
            },
            "header": {
             "fill": {
              "color": "#C8D4E3"
             },
             "line": {
              "color": "white"
             }
            },
            "type": "table"
           }
          ]
         },
         "layout": {
          "annotationdefaults": {
           "arrowcolor": "#2a3f5f",
           "arrowhead": 0,
           "arrowwidth": 1
          },
          "autotypenumbers": "strict",
          "coloraxis": {
           "colorbar": {
            "outlinewidth": 0,
            "ticks": ""
           }
          },
          "colorscale": {
           "diverging": [
            [
             0,
             "#8e0152"
            ],
            [
             0.1,
             "#c51b7d"
            ],
            [
             0.2,
             "#de77ae"
            ],
            [
             0.3,
             "#f1b6da"
            ],
            [
             0.4,
             "#fde0ef"
            ],
            [
             0.5,
             "#f7f7f7"
            ],
            [
             0.6,
             "#e6f5d0"
            ],
            [
             0.7,
             "#b8e186"
            ],
            [
             0.8,
             "#7fbc41"
            ],
            [
             0.9,
             "#4d9221"
            ],
            [
             1,
             "#276419"
            ]
           ],
           "sequential": [
            [
             0,
             "#0d0887"
            ],
            [
             0.1111111111111111,
             "#46039f"
            ],
            [
             0.2222222222222222,
             "#7201a8"
            ],
            [
             0.3333333333333333,
             "#9c179e"
            ],
            [
             0.4444444444444444,
             "#bd3786"
            ],
            [
             0.5555555555555556,
             "#d8576b"
            ],
            [
             0.6666666666666666,
             "#ed7953"
            ],
            [
             0.7777777777777778,
             "#fb9f3a"
            ],
            [
             0.8888888888888888,
             "#fdca26"
            ],
            [
             1,
             "#f0f921"
            ]
           ],
           "sequentialminus": [
            [
             0,
             "#0d0887"
            ],
            [
             0.1111111111111111,
             "#46039f"
            ],
            [
             0.2222222222222222,
             "#7201a8"
            ],
            [
             0.3333333333333333,
             "#9c179e"
            ],
            [
             0.4444444444444444,
             "#bd3786"
            ],
            [
             0.5555555555555556,
             "#d8576b"
            ],
            [
             0.6666666666666666,
             "#ed7953"
            ],
            [
             0.7777777777777778,
             "#fb9f3a"
            ],
            [
             0.8888888888888888,
             "#fdca26"
            ],
            [
             1,
             "#f0f921"
            ]
           ]
          },
          "colorway": [
           "#636efa",
           "#EF553B",
           "#00cc96",
           "#ab63fa",
           "#FFA15A",
           "#19d3f3",
           "#FF6692",
           "#B6E880",
           "#FF97FF",
           "#FECB52"
          ],
          "font": {
           "color": "#2a3f5f"
          },
          "geo": {
           "bgcolor": "white",
           "lakecolor": "white",
           "landcolor": "#E5ECF6",
           "showlakes": true,
           "showland": true,
           "subunitcolor": "white"
          },
          "hoverlabel": {
           "align": "left"
          },
          "hovermode": "closest",
          "mapbox": {
           "style": "light"
          },
          "paper_bgcolor": "white",
          "plot_bgcolor": "#E5ECF6",
          "polar": {
           "angularaxis": {
            "gridcolor": "white",
            "linecolor": "white",
            "ticks": ""
           },
           "bgcolor": "#E5ECF6",
           "radialaxis": {
            "gridcolor": "white",
            "linecolor": "white",
            "ticks": ""
           }
          },
          "scene": {
           "xaxis": {
            "backgroundcolor": "#E5ECF6",
            "gridcolor": "white",
            "gridwidth": 2,
            "linecolor": "white",
            "showbackground": true,
            "ticks": "",
            "zerolinecolor": "white"
           },
           "yaxis": {
            "backgroundcolor": "#E5ECF6",
            "gridcolor": "white",
            "gridwidth": 2,
            "linecolor": "white",
            "showbackground": true,
            "ticks": "",
            "zerolinecolor": "white"
           },
           "zaxis": {
            "backgroundcolor": "#E5ECF6",
            "gridcolor": "white",
            "gridwidth": 2,
            "linecolor": "white",
            "showbackground": true,
            "ticks": "",
            "zerolinecolor": "white"
           }
          },
          "shapedefaults": {
           "line": {
            "color": "#2a3f5f"
           }
          },
          "ternary": {
           "aaxis": {
            "gridcolor": "white",
            "linecolor": "white",
            "ticks": ""
           },
           "baxis": {
            "gridcolor": "white",
            "linecolor": "white",
            "ticks": ""
           },
           "bgcolor": "#E5ECF6",
           "caxis": {
            "gridcolor": "white",
            "linecolor": "white",
            "ticks": ""
           }
          },
          "title": {
           "x": 0.05
          },
          "xaxis": {
           "automargin": true,
           "gridcolor": "white",
           "linecolor": "white",
           "ticks": "",
           "title": {
            "standoff": 15
           },
           "zerolinecolor": "white",
           "zerolinewidth": 2
          },
          "yaxis": {
           "automargin": true,
           "gridcolor": "white",
           "linecolor": "white",
           "ticks": "",
           "title": {
            "standoff": 15
           },
           "zerolinecolor": "white",
           "zerolinewidth": 2
          }
         }
        },
        "xaxis": {
         "anchor": "y",
         "domain": [
          0,
          1
         ],
         "title": {
          "text": "proportion_broken"
         }
        },
        "yaxis": {
         "anchor": "x",
         "domain": [
          0,
          1
         ],
         "title": {
          "text": ""
         }
        }
       }
      }
     },
     "metadata": {}
    }
   ],
   "source": [
    "px.scatter(df_common, x='proportion_broken', y='dummy_y', color='stimulus', hover_name=df_common.index, labels={'dummy_y': ''})"
   ]
  },
  {
   "source": [
    "# All proteins"
   ],
   "cell_type": "markdown",
   "metadata": {}
  },
  {
   "cell_type": "code",
   "execution_count": 13,
   "metadata": {},
   "outputs": [
    {
     "output_type": "display_data",
     "data": {
      "application/vnd.plotly.v1+json": {
       "config": {
        "plotlyServerURL": "https://plot.ly"
       },
       "data": [
        {
         "alignmentgroup": "True",
         "bingroup": "x",
         "hovertemplate": "stimulus=NS<br>proportion_broken=%{x}<br>count=%{y}<extra></extra>",
         "legendgroup": "NS",
         "marker": {
          "color": "#636efa"
         },
         "name": "NS",
         "offsetgroup": "NS",
         "orientation": "v",
         "showlegend": true,
         "type": "histogram",
         "x": [
          0.006818983289930556,
          0.010250515407986112,
          0.00446319580078125,
          0.008305019802517362,
          0.0611161126030816,
          0.008861541748046875,
          0.5280185275607638,
          0.004413180881076389,
          0.011553022596571181,
          0.22156312730577257,
          0.057970682779947914,
          0.005666097005208333,
          0.005612691243489583,
          0.005628797743055556,
          0.03964063856336805,
          0.0014292399088541667,
          0.028609805636935763,
          0.0349625481499566,
          0.00670623779296875,
          0.05205493503146701,
          0.004011366102430556,
          0.013522254096137153,
          0.11083814832899305,
          0.34985987345377606,
          0.0069122314453125,
          0.01834869384765625,
          0.0036103990342881945,
          0.22432920667860243,
          0.5045377943250868,
          0.002838134765625,
          0.0031717088487413195,
          0.005418565538194444,
          0.012551625569661459,
          0.004830254448784722,
          0.026010301378038194,
          0.004758199055989583,
          0.1755557590060764,
          0.003726959228515625,
          0.003368801540798611,
          0.005394829644097222,
          0.005664401584201389,
          0.002708011203342014,
          0.006916469997829861,
          0.004561954074435764,
          0.5120247734917535,
          0.003932529025607639,
          0.008564419216579862,
          0.05054685804578993,
          0.029563056098090276,
          0.0422621832953559,
          0.01628663804796007,
          0.016559600830078125,
          0.003020816379123264,
          0.008206261528862847,
          0.029463026258680556,
          0.13896391126844618,
          0.010603586832682291,
          0.003971099853515625,
          0.005435519748263889,
          0.010422600640190972,
          0.0028097364637586805,
          0.005237155490451389,
          0.003193749321831597,
          0.07444000244140625,
          0.007626003689236111,
          0.001929812961154514,
          0.004339430067274306,
          0.005617777506510417,
          0.0023939344618055555,
          0.007821824815538194,
          0.005004035101996528,
          0.006935967339409722,
          0.19792641533745658,
          0.004040188259548611,
          0.003613366021050347,
          0.005597008599175347,
          0.0849151611328125,
          0.01694276597764757,
          0.003810034857855903,
          0.025646633572048612,
          0.009855906168619791,
          0.005429161919487847,
          0.029579586452907987,
          0.004177093505859375,
          0.006008572048611111,
          0.03749720255533854,
          0.0025266011555989585,
          0.028280470106336806,
          0.24182552761501735,
          0.0037129720052083335,
          0.007206810845269097,
          0.012655046251085069,
          0.012170579698350694,
          0.003734164767795139,
          0.002666897243923611,
          0.013715532090928819,
          0.004982842339409722,
          0.006513807508680556,
          0.004550086127387153,
          0.04801220364040799,
          0.010127597384982638,
          0.005342695448133681,
          0.004718356662326389,
          0.004727257622612847,
          0.006314171685112847,
          0.0154876708984375,
          0.17609151204427084,
          0.003999074300130208,
          0.04384740193684896,
          0.004464891221788194,
          0.009334988064236112,
          0.0036523607042100695,
          0.03144497341579861,
          0.2706773546006944,
          0.021770901150173612,
          0.010634528266059028,
          0.005021413167317708,
          0.02734926011827257,
          0.006121741400824653,
          0.007170359293619792,
          0.06309254964192708,
          0.006717681884765625,
          0.005702548556857639,
          0.015869564480251737,
          0.004393259684244792,
          0.0030538770887586805,
          0.01655790540907118,
          0.012094285753038194,
          0.004772186279296875,
          0.10171212090386285,
          0.010427263047960069,
          0.004344092475043403,
          0.03511683146158854,
          0.014295366075303819,
          0.008461422390407987,
          0.005135006374782986,
          0.003642612033420139,
          0.009223514133029513
         ],
         "xaxis": "x",
         "yaxis": "y"
        },
        {
         "alignmentgroup": "True",
         "bingroup": "x",
         "hovertemplate": "stimulus=NO<br>proportion_broken=%{x}<br>count=%{y}<extra></extra>",
         "legendgroup": "NO",
         "marker": {
          "color": "#EF553B"
         },
         "name": "NO",
         "offsetgroup": "NO",
         "orientation": "v",
         "showlegend": true,
         "type": "histogram",
         "x": [
          0.007847679985894097,
          0.016317579481336806,
          0.055472479926215276,
          0.007221221923828125,
          0.0030233595106336805,
          0.19046571519639757,
          0.06383175320095485,
          0.010142432318793403,
          0.0123748779296875,
          0.008107927110460069,
          0.09064610799153645,
          0.009262932671440972,
          0.10916519165039062,
          0.058785332573784724,
          0.08135604858398438,
          0.0033480326334635415,
          0.0032246907552083335,
          0.036165873209635414,
          0.023293389214409724,
          0.11689037746853298,
          0.0283309088812934,
          0.026614718967013888,
          0.008281707763671875,
          0.02618704901801215,
          0.016163296169704862,
          0.006949106852213542,
          0.34197235107421875,
          0.016501956515842013,
          0.026078965928819444,
          0.04840893215603299,
          0.00360107421875,
          0.00299835205078125,
          0.006954193115234375,
          0.5630230373806424,
          0.013106452094184028,
          0.005391014946831597,
          0.16100862291124132,
          0.007030487060546875,
          0.004504733615451389,
          0.32985221015082467,
          0.013317108154296875,
          0.003456539577907986,
          0.017973158094618056,
          0.021010080973307293,
          0.43447240193684894,
          0.046541849772135414,
          0.03801854451497396,
          0.008143107096354166,
          0.003075493706597222,
          0.002197689480251736,
          0.09419335259331597,
          0.004474639892578125,
          0.003912607828776042,
          0.003031836615668403,
          0.024709065755208332,
          0.052239312065972224,
          0.24336200290256077,
          0.004758622911241319,
          0.12200164794921875,
          0.003136105007595486,
          0.007271660698784722,
          0.00614166259765625,
          0.004764133029513889,
          0.0047149658203125,
          0.005295223659939236,
          0.011176639133029513,
          0.030812581380208332,
          0.0038134256998697915,
          0.0018450419108072917,
          0.007754007975260417,
          0.005262162950303819,
          0.0026766459147135415,
          0.024613274468315974,
          0.0201004876030816,
          0.10130945841471355,
          0.02137459648980035,
          0.006913503011067708,
          0.037715911865234375,
          0.021460639105902776,
          0.041842142740885414,
          0.003940158420138889,
          0.004015604654947917,
          0.06414413452148438,
          0.5918468899197049,
          0.006511264377170139,
          0.015616946750217013,
          0.003825293646918403,
          0.019222683376736112,
          0.006173027886284722,
          0.5644645690917969,
          0.06795035468207465,
          0.005746205647786458,
          0.14296510484483507,
          0.14275317721896702,
          0.06751802232530382,
          0.006028493245442708,
          0.03337266710069445,
          0.0184889899359809,
          0.0028707716200086805,
          0.0035565694173177085,
          0.029014163547092013,
          0.008667416042751737,
          0.03631295098198785,
          0.014593336317274306,
          0.3267991807725694,
          0.008280860053168403,
          0.003925323486328125,
          0.008788638644748263,
          0.02263090345594618,
          0.5856306287977431,
          0.20397864447699654,
          0.05595525105794271,
          0.0057830810546875,
          0.0035574171278211805,
          0.05862299601236979,
          0.004760318332248264,
          0.008124881320529513,
          0.09274334377712673,
          0.4612380133734809,
          0.04695171780056424,
          0.7635019090440538,
          0.07004759046766493,
          0.0037409464518229165,
          0.005148145887586806,
          0.468986087375217,
          0.2654796176486545,
          0.005827585856119792,
          0.028360154893663194,
          0.3360748291015625,
          0.016295115152994793,
          0.006598154703776042,
          0.6396348741319444,
          0.005404154459635417,
          0.16352462768554688,
          0.007569207085503472,
          0.018677605523003474,
          0.678290049235026,
          0.013993581136067709,
          0.024326324462890625,
          0.12974972195095485,
          0.001812405056423611,
          0.004209730360243056,
          0.030112796359592013,
          0.002669864230685764,
          0.08577813042534722,
          0.04644817776150174,
          0.004089779324001736,
          0.10993321736653645,
          0.002549065483940972,
          0.014714558919270834,
          0.1460689968532986,
          0.19523451063368055,
          0.018508063422309026,
          0.009936014811197916,
          0.004750993516710069,
          0.0036866929796006945,
          0.003670162624782986,
          0.004661136203342014,
          0.010219150119357638,
          0.00257110595703125,
          0.011352115207248263,
          0.8429027133517795,
          0.5991244845920138,
          0.014479319254557291,
          0.005556742350260417,
          0.002860175238715278,
          0.006973690456814236,
          0.00885009765625,
          0.011156717936197916,
          0.05850643581814236,
          0.005905999077690972,
          0.04121822781032986,
          0.004184722900390625,
          0.018066830105251737,
          0.007942623562282987,
          0.005362616644965278,
          0.027509901258680556,
          0.27333662245008683,
          0.026352352566189237,
          0.41262563069661456,
          0.008783128526475694,
          0.003619723849826389,
          0.022410922580295138,
          0.005251566569010417,
          0.0035722520616319445,
          0.42541207207573783,
          0.011594136555989584,
          0.009382459852430556,
          0.5689625210232205,
          0.020348866780598957,
          0.009919484456380209,
          0.12972301907009548,
          0.20995330810546875,
          0.00351715087890625,
          0.004511515299479167,
          0.01694276597764757,
          0.007289462619357639,
          0.006084442138671875,
          0.06925243801540798,
          0.003245883517795139
         ],
         "xaxis": "x",
         "yaxis": "y"
        }
       ],
       "layout": {
        "barmode": "relative",
        "legend": {
         "title": {
          "text": "stimulus"
         },
         "tracegroupgap": 0
        },
        "margin": {
         "t": 60
        },
        "template": {
         "data": {
          "bar": [
           {
            "error_x": {
             "color": "#2a3f5f"
            },
            "error_y": {
             "color": "#2a3f5f"
            },
            "marker": {
             "line": {
              "color": "#E5ECF6",
              "width": 0.5
             }
            },
            "type": "bar"
           }
          ],
          "barpolar": [
           {
            "marker": {
             "line": {
              "color": "#E5ECF6",
              "width": 0.5
             }
            },
            "type": "barpolar"
           }
          ],
          "carpet": [
           {
            "aaxis": {
             "endlinecolor": "#2a3f5f",
             "gridcolor": "white",
             "linecolor": "white",
             "minorgridcolor": "white",
             "startlinecolor": "#2a3f5f"
            },
            "baxis": {
             "endlinecolor": "#2a3f5f",
             "gridcolor": "white",
             "linecolor": "white",
             "minorgridcolor": "white",
             "startlinecolor": "#2a3f5f"
            },
            "type": "carpet"
           }
          ],
          "choropleth": [
           {
            "colorbar": {
             "outlinewidth": 0,
             "ticks": ""
            },
            "type": "choropleth"
           }
          ],
          "contour": [
           {
            "colorbar": {
             "outlinewidth": 0,
             "ticks": ""
            },
            "colorscale": [
             [
              0,
              "#0d0887"
             ],
             [
              0.1111111111111111,
              "#46039f"
             ],
             [
              0.2222222222222222,
              "#7201a8"
             ],
             [
              0.3333333333333333,
              "#9c179e"
             ],
             [
              0.4444444444444444,
              "#bd3786"
             ],
             [
              0.5555555555555556,
              "#d8576b"
             ],
             [
              0.6666666666666666,
              "#ed7953"
             ],
             [
              0.7777777777777778,
              "#fb9f3a"
             ],
             [
              0.8888888888888888,
              "#fdca26"
             ],
             [
              1,
              "#f0f921"
             ]
            ],
            "type": "contour"
           }
          ],
          "contourcarpet": [
           {
            "colorbar": {
             "outlinewidth": 0,
             "ticks": ""
            },
            "type": "contourcarpet"
           }
          ],
          "heatmap": [
           {
            "colorbar": {
             "outlinewidth": 0,
             "ticks": ""
            },
            "colorscale": [
             [
              0,
              "#0d0887"
             ],
             [
              0.1111111111111111,
              "#46039f"
             ],
             [
              0.2222222222222222,
              "#7201a8"
             ],
             [
              0.3333333333333333,
              "#9c179e"
             ],
             [
              0.4444444444444444,
              "#bd3786"
             ],
             [
              0.5555555555555556,
              "#d8576b"
             ],
             [
              0.6666666666666666,
              "#ed7953"
             ],
             [
              0.7777777777777778,
              "#fb9f3a"
             ],
             [
              0.8888888888888888,
              "#fdca26"
             ],
             [
              1,
              "#f0f921"
             ]
            ],
            "type": "heatmap"
           }
          ],
          "heatmapgl": [
           {
            "colorbar": {
             "outlinewidth": 0,
             "ticks": ""
            },
            "colorscale": [
             [
              0,
              "#0d0887"
             ],
             [
              0.1111111111111111,
              "#46039f"
             ],
             [
              0.2222222222222222,
              "#7201a8"
             ],
             [
              0.3333333333333333,
              "#9c179e"
             ],
             [
              0.4444444444444444,
              "#bd3786"
             ],
             [
              0.5555555555555556,
              "#d8576b"
             ],
             [
              0.6666666666666666,
              "#ed7953"
             ],
             [
              0.7777777777777778,
              "#fb9f3a"
             ],
             [
              0.8888888888888888,
              "#fdca26"
             ],
             [
              1,
              "#f0f921"
             ]
            ],
            "type": "heatmapgl"
           }
          ],
          "histogram": [
           {
            "marker": {
             "colorbar": {
              "outlinewidth": 0,
              "ticks": ""
             }
            },
            "type": "histogram"
           }
          ],
          "histogram2d": [
           {
            "colorbar": {
             "outlinewidth": 0,
             "ticks": ""
            },
            "colorscale": [
             [
              0,
              "#0d0887"
             ],
             [
              0.1111111111111111,
              "#46039f"
             ],
             [
              0.2222222222222222,
              "#7201a8"
             ],
             [
              0.3333333333333333,
              "#9c179e"
             ],
             [
              0.4444444444444444,
              "#bd3786"
             ],
             [
              0.5555555555555556,
              "#d8576b"
             ],
             [
              0.6666666666666666,
              "#ed7953"
             ],
             [
              0.7777777777777778,
              "#fb9f3a"
             ],
             [
              0.8888888888888888,
              "#fdca26"
             ],
             [
              1,
              "#f0f921"
             ]
            ],
            "type": "histogram2d"
           }
          ],
          "histogram2dcontour": [
           {
            "colorbar": {
             "outlinewidth": 0,
             "ticks": ""
            },
            "colorscale": [
             [
              0,
              "#0d0887"
             ],
             [
              0.1111111111111111,
              "#46039f"
             ],
             [
              0.2222222222222222,
              "#7201a8"
             ],
             [
              0.3333333333333333,
              "#9c179e"
             ],
             [
              0.4444444444444444,
              "#bd3786"
             ],
             [
              0.5555555555555556,
              "#d8576b"
             ],
             [
              0.6666666666666666,
              "#ed7953"
             ],
             [
              0.7777777777777778,
              "#fb9f3a"
             ],
             [
              0.8888888888888888,
              "#fdca26"
             ],
             [
              1,
              "#f0f921"
             ]
            ],
            "type": "histogram2dcontour"
           }
          ],
          "mesh3d": [
           {
            "colorbar": {
             "outlinewidth": 0,
             "ticks": ""
            },
            "type": "mesh3d"
           }
          ],
          "parcoords": [
           {
            "line": {
             "colorbar": {
              "outlinewidth": 0,
              "ticks": ""
             }
            },
            "type": "parcoords"
           }
          ],
          "pie": [
           {
            "automargin": true,
            "type": "pie"
           }
          ],
          "scatter": [
           {
            "marker": {
             "colorbar": {
              "outlinewidth": 0,
              "ticks": ""
             }
            },
            "type": "scatter"
           }
          ],
          "scatter3d": [
           {
            "line": {
             "colorbar": {
              "outlinewidth": 0,
              "ticks": ""
             }
            },
            "marker": {
             "colorbar": {
              "outlinewidth": 0,
              "ticks": ""
             }
            },
            "type": "scatter3d"
           }
          ],
          "scattercarpet": [
           {
            "marker": {
             "colorbar": {
              "outlinewidth": 0,
              "ticks": ""
             }
            },
            "type": "scattercarpet"
           }
          ],
          "scattergeo": [
           {
            "marker": {
             "colorbar": {
              "outlinewidth": 0,
              "ticks": ""
             }
            },
            "type": "scattergeo"
           }
          ],
          "scattergl": [
           {
            "marker": {
             "colorbar": {
              "outlinewidth": 0,
              "ticks": ""
             }
            },
            "type": "scattergl"
           }
          ],
          "scattermapbox": [
           {
            "marker": {
             "colorbar": {
              "outlinewidth": 0,
              "ticks": ""
             }
            },
            "type": "scattermapbox"
           }
          ],
          "scatterpolar": [
           {
            "marker": {
             "colorbar": {
              "outlinewidth": 0,
              "ticks": ""
             }
            },
            "type": "scatterpolar"
           }
          ],
          "scatterpolargl": [
           {
            "marker": {
             "colorbar": {
              "outlinewidth": 0,
              "ticks": ""
             }
            },
            "type": "scatterpolargl"
           }
          ],
          "scatterternary": [
           {
            "marker": {
             "colorbar": {
              "outlinewidth": 0,
              "ticks": ""
             }
            },
            "type": "scatterternary"
           }
          ],
          "surface": [
           {
            "colorbar": {
             "outlinewidth": 0,
             "ticks": ""
            },
            "colorscale": [
             [
              0,
              "#0d0887"
             ],
             [
              0.1111111111111111,
              "#46039f"
             ],
             [
              0.2222222222222222,
              "#7201a8"
             ],
             [
              0.3333333333333333,
              "#9c179e"
             ],
             [
              0.4444444444444444,
              "#bd3786"
             ],
             [
              0.5555555555555556,
              "#d8576b"
             ],
             [
              0.6666666666666666,
              "#ed7953"
             ],
             [
              0.7777777777777778,
              "#fb9f3a"
             ],
             [
              0.8888888888888888,
              "#fdca26"
             ],
             [
              1,
              "#f0f921"
             ]
            ],
            "type": "surface"
           }
          ],
          "table": [
           {
            "cells": {
             "fill": {
              "color": "#EBF0F8"
             },
             "line": {
              "color": "white"
             }
            },
            "header": {
             "fill": {
              "color": "#C8D4E3"
             },
             "line": {
              "color": "white"
             }
            },
            "type": "table"
           }
          ]
         },
         "layout": {
          "annotationdefaults": {
           "arrowcolor": "#2a3f5f",
           "arrowhead": 0,
           "arrowwidth": 1
          },
          "autotypenumbers": "strict",
          "coloraxis": {
           "colorbar": {
            "outlinewidth": 0,
            "ticks": ""
           }
          },
          "colorscale": {
           "diverging": [
            [
             0,
             "#8e0152"
            ],
            [
             0.1,
             "#c51b7d"
            ],
            [
             0.2,
             "#de77ae"
            ],
            [
             0.3,
             "#f1b6da"
            ],
            [
             0.4,
             "#fde0ef"
            ],
            [
             0.5,
             "#f7f7f7"
            ],
            [
             0.6,
             "#e6f5d0"
            ],
            [
             0.7,
             "#b8e186"
            ],
            [
             0.8,
             "#7fbc41"
            ],
            [
             0.9,
             "#4d9221"
            ],
            [
             1,
             "#276419"
            ]
           ],
           "sequential": [
            [
             0,
             "#0d0887"
            ],
            [
             0.1111111111111111,
             "#46039f"
            ],
            [
             0.2222222222222222,
             "#7201a8"
            ],
            [
             0.3333333333333333,
             "#9c179e"
            ],
            [
             0.4444444444444444,
             "#bd3786"
            ],
            [
             0.5555555555555556,
             "#d8576b"
            ],
            [
             0.6666666666666666,
             "#ed7953"
            ],
            [
             0.7777777777777778,
             "#fb9f3a"
            ],
            [
             0.8888888888888888,
             "#fdca26"
            ],
            [
             1,
             "#f0f921"
            ]
           ],
           "sequentialminus": [
            [
             0,
             "#0d0887"
            ],
            [
             0.1111111111111111,
             "#46039f"
            ],
            [
             0.2222222222222222,
             "#7201a8"
            ],
            [
             0.3333333333333333,
             "#9c179e"
            ],
            [
             0.4444444444444444,
             "#bd3786"
            ],
            [
             0.5555555555555556,
             "#d8576b"
            ],
            [
             0.6666666666666666,
             "#ed7953"
            ],
            [
             0.7777777777777778,
             "#fb9f3a"
            ],
            [
             0.8888888888888888,
             "#fdca26"
            ],
            [
             1,
             "#f0f921"
            ]
           ]
          },
          "colorway": [
           "#636efa",
           "#EF553B",
           "#00cc96",
           "#ab63fa",
           "#FFA15A",
           "#19d3f3",
           "#FF6692",
           "#B6E880",
           "#FF97FF",
           "#FECB52"
          ],
          "font": {
           "color": "#2a3f5f"
          },
          "geo": {
           "bgcolor": "white",
           "lakecolor": "white",
           "landcolor": "#E5ECF6",
           "showlakes": true,
           "showland": true,
           "subunitcolor": "white"
          },
          "hoverlabel": {
           "align": "left"
          },
          "hovermode": "closest",
          "mapbox": {
           "style": "light"
          },
          "paper_bgcolor": "white",
          "plot_bgcolor": "#E5ECF6",
          "polar": {
           "angularaxis": {
            "gridcolor": "white",
            "linecolor": "white",
            "ticks": ""
           },
           "bgcolor": "#E5ECF6",
           "radialaxis": {
            "gridcolor": "white",
            "linecolor": "white",
            "ticks": ""
           }
          },
          "scene": {
           "xaxis": {
            "backgroundcolor": "#E5ECF6",
            "gridcolor": "white",
            "gridwidth": 2,
            "linecolor": "white",
            "showbackground": true,
            "ticks": "",
            "zerolinecolor": "white"
           },
           "yaxis": {
            "backgroundcolor": "#E5ECF6",
            "gridcolor": "white",
            "gridwidth": 2,
            "linecolor": "white",
            "showbackground": true,
            "ticks": "",
            "zerolinecolor": "white"
           },
           "zaxis": {
            "backgroundcolor": "#E5ECF6",
            "gridcolor": "white",
            "gridwidth": 2,
            "linecolor": "white",
            "showbackground": true,
            "ticks": "",
            "zerolinecolor": "white"
           }
          },
          "shapedefaults": {
           "line": {
            "color": "#2a3f5f"
           }
          },
          "ternary": {
           "aaxis": {
            "gridcolor": "white",
            "linecolor": "white",
            "ticks": ""
           },
           "baxis": {
            "gridcolor": "white",
            "linecolor": "white",
            "ticks": ""
           },
           "bgcolor": "#E5ECF6",
           "caxis": {
            "gridcolor": "white",
            "linecolor": "white",
            "ticks": ""
           }
          },
          "title": {
           "x": 0.05
          },
          "xaxis": {
           "automargin": true,
           "gridcolor": "white",
           "linecolor": "white",
           "ticks": "",
           "title": {
            "standoff": 15
           },
           "zerolinecolor": "white",
           "zerolinewidth": 2
          },
          "yaxis": {
           "automargin": true,
           "gridcolor": "white",
           "linecolor": "white",
           "ticks": "",
           "title": {
            "standoff": 15
           },
           "zerolinecolor": "white",
           "zerolinewidth": 2
          }
         }
        },
        "xaxis": {
         "anchor": "y",
         "domain": [
          0,
          1
         ],
         "title": {
          "text": "proportion_broken"
         }
        },
        "yaxis": {
         "anchor": "x",
         "domain": [
          0,
          1
         ],
         "title": {
          "text": "count"
         }
        }
       }
      }
     },
     "metadata": {}
    }
   ],
   "source": [
    "px.histogram(df, x='proportion_broken', color='stimulus')"
   ]
  },
  {
   "cell_type": "code",
   "execution_count": 8,
   "metadata": {},
   "outputs": [
    {
     "output_type": "display_data",
     "data": {
      "application/vnd.plotly.v1+json": {
       "config": {
        "plotlyServerURL": "https://plot.ly"
       },
       "data": [
        {
         "hovertemplate": "<b>%{hovertext}</b><br><br>stimulus=NS<br>proportion_broken=%{x}<br>=%{y}<extra></extra>",
         "hovertext": [
          "ILK_F1_NS",
          "MET_E1_NS",
          "ACTN1_B2_NS",
          "RAPGEF2_G2_NS",
          "TRIP6_H2_NS",
          "LIMA1_F2_NS",
          "VEZT_G3_NS",
          "BCAR1_B2_NS",
          "ARHGAP4_A1b_NS",
          "CDH1_B2_NS",
          "PVRL1_I2_NS",
          "GNB2L1_E3_NS",
          "DNMBP_A3_NS",
          "ENAH_B2_NS",
          "DLG5_A3_NS",
          "ACTN1_B1_NS",
          "TMOD3_I2_NS",
          "ABL1_A3_NS",
          "ROCK1_H1_NS",
          "VEZT_G2_NS",
          "GRLF1_C3_NS",
          "RHOA_H1_NS",
          "ITGA3_F3_NS",
          "CTNNA2_L2_NS",
          "WASF2_H1_NS",
          "CBLL1_A1_NS",
          "ANK3_B1_NS",
          "ARHGAP12_L2_NS",
          "SDCBP_I2_NS",
          "DIAP1_B1_NS",
          "PVRL1_I1_NS",
          "ITGB1_D2_NS",
          "ADAM9_C1_NS",
          "DLG1_C1_NS",
          "SRGAP3_I2_NS",
          "FMN1_D3_NS",
          "TRPV4_L2_NS",
          "DIAP2_C1_NS",
          "GRLF1_C2_NS",
          "AKAP5_B1_NS",
          "TJP2_H1_NS",
          "ARHGAP32_C3c_NS",
          "FYN_E1_NS",
          "ARHGAP10_C3c_NS",
          "GNA12_E2_NS",
          "PKP4_E1_NS",
          "DNMBP_A1_NS",
          "ABI1_A3_NS",
          "PTPRM_H1_NS",
          "ARHGAP4_A3_NS",
          "CTNNB1_A3_NS",
          "CDC42_A1_NS",
          "CTNND1_B1_NS",
          "MYH10_F1_NS",
          "PTPRJ_G2_NS",
          "GRLF1_L2_NS",
          "JUP_D3_NS",
          "RAPGEF1_G2_NS",
          "LPP_D2_NS",
          "CDC42_A3_NS",
          "PTEN_E1_NS",
          "WIPF2_I1_NS",
          "CSNK1E_A3_NS",
          "VASP_I2_NS",
          "CTNNB1_A2_NS",
          "EPB4.1_B1_NS",
          "FBLIM1_C1_NS",
          "DYNC1H1_A2_NS",
          "ARHGEF2_A1b_NS",
          "ADD3_A3_NS",
          "DIAP1_B3_NS",
          "ZYX_I1_NS",
          "CDH1_B3_NS",
          "PIK3CA_D1_NS",
          "CEACAM1_B1_NS",
          "DYNC1H1_A1_NS",
          "ROCK1_H2_NS",
          "CTNNA1_A3_NS",
          "PTPRJ_G1_NS",
          "TRIO_H2_NS",
          "PTK2B_E1_NS",
          "TJP2_H2_NS",
          "MAPK8_E1_NS",
          "ABI2_A1_NS",
          "VIM_H2_NS",
          "SDC1_I2_NS",
          "FERT2_D3_NS",
          "CTNNA3_L2_NS",
          "ACTN4_L2_NS",
          "ARVCF_A1_NS",
          "TRIO_H1_NS",
          "SRGAP2_I2_NS",
          "TRIOBP_H1_NS",
          "MAPK1_D3_NS",
          "TRPV4_L3_NS",
          "AJAP1_A3_NS",
          "CBLL1_A2_NS",
          "SORBS1_G2_NS",
          "VCL_G2_NS",
          "ITGA3_F2_NS",
          "ADD1_A2b_NS",
          "GRLF1_L3_NS",
          "PTPRU_I1_NS",
          "PKD1_E3_NS",
          "PKD1_E1_NS",
          "CTTN_B2_NS",
          "PTPRT_H2_NS",
          "ARHGAP12_L3_NS",
          "PTPRF_G2_NS",
          "CD151_A3_NS",
          "ABI2_A3_NS",
          "ABL1_A1_NS",
          "SRC_H2_NS",
          "RAC1_I2_NS",
          "ARHGEF12_L2_NS",
          "CTNNA1_A2_NS",
          "CCNG1_L2_NS",
          "SPNB2_H1_NS",
          "DLG5_A2_NS",
          "CDC42_A2_NS",
          "ACTB_B1_NS",
          "P2RX4_E1_NS",
          "ADD1_A3_NS",
          "PTPN1_E1_NS",
          "ARHGEF2_A3_NS",
          "IQGAP1_F3_NS",
          "PIP5K1C_D3_NS",
          "MYH9_F2_NS",
          "ARVCF_A3_NS",
          "CTNNA1_A1_NS",
          "CDH1_B1_NS",
          "TMOD1_I2_NS",
          "SRGAP1_I1_NS",
          "TJP1_H1_NS",
          "RAPGEF2_G1_NS",
          "RDX_H1_NS",
          "NUMB_E1_NS",
          "PLEKHA7_E1_NS"
         ],
         "legendgroup": "NS",
         "marker": {
          "color": "#636efa",
          "symbol": "circle"
         },
         "mode": "markers",
         "name": "NS",
         "orientation": "v",
         "showlegend": true,
         "type": "scatter",
         "x": [
          0.006818983289930556,
          0.010250515407986112,
          0.00446319580078125,
          0.008305019802517362,
          0.0611161126030816,
          0.008861541748046875,
          0.5280185275607638,
          0.004413180881076389,
          0.011553022596571181,
          0.22156312730577257,
          0.057970682779947914,
          0.005666097005208333,
          0.005612691243489583,
          0.005628797743055556,
          0.03964063856336805,
          0.0014292399088541667,
          0.028609805636935763,
          0.0349625481499566,
          0.00670623779296875,
          0.05205493503146701,
          0.004011366102430556,
          0.013522254096137153,
          0.11083814832899305,
          0.34985987345377606,
          0.0069122314453125,
          0.01834869384765625,
          0.0036103990342881945,
          0.22432920667860243,
          0.5045377943250868,
          0.002838134765625,
          0.0031717088487413195,
          0.005418565538194444,
          0.012551625569661459,
          0.004830254448784722,
          0.026010301378038194,
          0.004758199055989583,
          0.1755557590060764,
          0.003726959228515625,
          0.003368801540798611,
          0.005394829644097222,
          0.005664401584201389,
          0.002708011203342014,
          0.006916469997829861,
          0.004561954074435764,
          0.5120247734917535,
          0.003932529025607639,
          0.008564419216579862,
          0.05054685804578993,
          0.029563056098090276,
          0.0422621832953559,
          0.01628663804796007,
          0.016559600830078125,
          0.003020816379123264,
          0.008206261528862847,
          0.029463026258680556,
          0.13896391126844618,
          0.010603586832682291,
          0.003971099853515625,
          0.005435519748263889,
          0.010422600640190972,
          0.0028097364637586805,
          0.005237155490451389,
          0.003193749321831597,
          0.07444000244140625,
          0.007626003689236111,
          0.001929812961154514,
          0.004339430067274306,
          0.005617777506510417,
          0.0023939344618055555,
          0.007821824815538194,
          0.005004035101996528,
          0.006935967339409722,
          0.19792641533745658,
          0.004040188259548611,
          0.003613366021050347,
          0.005597008599175347,
          0.0849151611328125,
          0.01694276597764757,
          0.003810034857855903,
          0.025646633572048612,
          0.009855906168619791,
          0.005429161919487847,
          0.029579586452907987,
          0.004177093505859375,
          0.006008572048611111,
          0.03749720255533854,
          0.0025266011555989585,
          0.028280470106336806,
          0.24182552761501735,
          0.0037129720052083335,
          0.007206810845269097,
          0.012655046251085069,
          0.012170579698350694,
          0.003734164767795139,
          0.002666897243923611,
          0.013715532090928819,
          0.004982842339409722,
          0.006513807508680556,
          0.004550086127387153,
          0.04801220364040799,
          0.010127597384982638,
          0.005342695448133681,
          0.004718356662326389,
          0.004727257622612847,
          0.006314171685112847,
          0.0154876708984375,
          0.17609151204427084,
          0.003999074300130208,
          0.04384740193684896,
          0.004464891221788194,
          0.009334988064236112,
          0.0036523607042100695,
          0.03144497341579861,
          0.2706773546006944,
          0.021770901150173612,
          0.010634528266059028,
          0.005021413167317708,
          0.02734926011827257,
          0.006121741400824653,
          0.007170359293619792,
          0.06309254964192708,
          0.006717681884765625,
          0.005702548556857639,
          0.015869564480251737,
          0.004393259684244792,
          0.0030538770887586805,
          0.01655790540907118,
          0.012094285753038194,
          0.004772186279296875,
          0.10171212090386285,
          0.010427263047960069,
          0.004344092475043403,
          0.03511683146158854,
          0.014295366075303819,
          0.008461422390407987,
          0.005135006374782986,
          0.003642612033420139,
          0.009223514133029513
         ],
         "xaxis": "x",
         "y": [
          0,
          0,
          0,
          0,
          0,
          0,
          0,
          0,
          0,
          0,
          0,
          0,
          0,
          0,
          0,
          0,
          0,
          0,
          0,
          0,
          0,
          0,
          0,
          0,
          0,
          0,
          0,
          0,
          0,
          0,
          0,
          0,
          0,
          0,
          0,
          0,
          0,
          0,
          0,
          0,
          0,
          0,
          0,
          0,
          0,
          0,
          0,
          0,
          0,
          0,
          0,
          0,
          0,
          0,
          0,
          0,
          0,
          0,
          0,
          0,
          0,
          0,
          0,
          0,
          0,
          0,
          0,
          0,
          0,
          0,
          0,
          0,
          0,
          0,
          0,
          0,
          0,
          0,
          0,
          0,
          0,
          0,
          0,
          0,
          0,
          0,
          0,
          0,
          0,
          0,
          0,
          0,
          0,
          0,
          0,
          0,
          0,
          0,
          0,
          0,
          0,
          0,
          0,
          0,
          0,
          0,
          0,
          0,
          0,
          0,
          0,
          0,
          0,
          0,
          0,
          0,
          0,
          0,
          0,
          0,
          0,
          0,
          0,
          0,
          0,
          0,
          0,
          0,
          0,
          0,
          0,
          0,
          0,
          0,
          0,
          0,
          0,
          0
         ],
         "yaxis": "y"
        },
        {
         "hovertemplate": "<b>%{hovertext}</b><br><br>stimulus=NO<br>proportion_broken=%{x}<br>=%{y}<extra></extra>",
         "hovertext": [
          "AJAP1_A2_NO",
          "CDC42_A3_NO",
          "AJAP1_A3_NO",
          "TUBA1B_I2_NO",
          "PVRL1_I3_NO",
          "SDC1_I2_NO",
          "ENAH_B1_NO",
          "ABI2_A1_NO",
          "RDX_H2_NO",
          "PIK3CA_D1_NO",
          "MET_E1_NO",
          "SRGAP3_I1_NO",
          "LMO7_F3_NO",
          "PTPRJ_G1_NO",
          "RDX_H1_NO",
          "EPB4.1_B2_NO",
          "CCNG1_L1_NO",
          "DYNC1H1_A1_NO",
          "CDC42_A2_NO",
          "ARHGEF2_A3_NO",
          "EPB4.1_B3_NO",
          "MYH9_F2_NO",
          "ABI1_A2_NO",
          "PTPRJ_G2_NO",
          "ARVCF_A1_NO",
          "SRGAP2_I2_NO",
          "CTNNA3_L2_NO",
          "PLEKHA7_E2_NO",
          "P2RX4_E1_NO",
          "ERBB2IP_C3c_NO",
          "FBLIM1_C1_NO",
          "PIK3CA_D2_NO",
          "DLG1_C1_NO",
          "ARHGAP12_L2_NO",
          "PTPRJ_G3_NO",
          "TJP2_H1_NO",
          "ARHGEF12_L2_NO",
          "ARHGAP12_L3_NO",
          "FYN_E1_NO",
          "CTNNA2_L2_NO",
          "SCRIB_I2_NO",
          "DNMBP_A1_NO",
          "ACP1_B3_NO",
          "TJP1_H1_NO",
          "CDH1_B3_NO",
          "GRLF1_L2_NO",
          "GNB2L1_E1_NO",
          "DIAP1_B2_NO",
          "DIAP2_C1_NO",
          "EPB4.1_B1_NO",
          "DLG5_A3_NO",
          "PSEN1_D3_NO",
          "NUMB_E3_NO",
          "ABI1_A1b_NO",
          "RHOA_H1_NO",
          "PTPRM_H1_NO",
          "LMO7_F2_NO",
          "ABL1_A1_NO",
          "PVRL1_I2_NO",
          "TUBA1B_I1_NO",
          "PTK2B_E2_NO",
          "ACP1_B1_NO",
          "VEZT_G2_NO",
          "MAPK1_D3_NO",
          "CD151_A2_NO",
          "ITGB1_D3_NO",
          "PTPRM_H2_NO",
          "AKT1_B3_NO",
          "VCL_G3_NO",
          "JUP_D3_NO",
          "PTPN6_G3_NO",
          "PRKCD_D2_NO",
          "CASP3_C3c_NO",
          "ARHGEF2_A2_NO",
          "TMOD3_I2_NO",
          "VIM_H2_NO",
          "MET_E3_NO",
          "MYH9_F3_NO",
          "ARHGAP10_C3c_NO",
          "CSNK1E_A1b_NO",
          "SRGAP2_I1_NO",
          "CSK_C1_NO",
          "CAR9_B1_NO",
          "TRPC4_I1_NO",
          "MYH10_F1_NO",
          "MAPK8_E1_NO",
          "SYKB_G2_NO",
          "SYKB_G3_NO",
          "MLLT4_E1_NO",
          "Sipa1L3_L2_NO",
          "CAMSAP3-2310057J16RIK_E1_NO",
          "ARVCF_A2_NO",
          "TRIOBP_H2_NO",
          "ARVCF_A3_NO",
          "WASL_H2_NO",
          "FBLIM1_C2_NO",
          "VASP_I2_NO",
          "RAPGEF1_G3_NO",
          "CAPN1_B1_NO",
          "CTNND1_B1_NO",
          "DLG5_A1b_NO",
          "FMN1_D3_NO",
          "CASP3_C1_NO",
          "DYNC1H1_A3_NO",
          "RAC1_I2_NO",
          "TRIO_H1_NO",
          "PTPRU_I2_NO",
          "CASP3_C2_NO",
          "PDZD2_F2_NO",
          "TRPV4_L2_NO",
          "CCNG1_L2_NO",
          "TRIP6_H2_NO",
          "EGFR_B3_NO",
          "ITGB1_D2_NO",
          "ARHGEF2_A1b_NO",
          "RAP1A_G2_NO",
          "CSNK1E_A3_NO",
          "ABI2_A3_NO",
          "TMOD3_I1_NO",
          "PTK2B_E1_NO",
          "TRPV4_L3_NO",
          "ADD1_A1b_NO",
          "SRC_H1_NO",
          "LPP_D3_NO",
          "SDCBP_I1_NO",
          "EGFR_B1_NO",
          "ADD1_A2b_NO",
          "PLEKHA7_E1_NO",
          "ROCK1_H2_NO",
          "FERT2_D3_NO",
          "ADAM10_C2_NO",
          "VEZT_G3_NO",
          "SORBS3_H1_NO",
          "TRIO_H2_NO",
          "ADD3_A1_NO",
          "GNA12_E1_NO",
          "CDC42_A1_NO",
          "SPNB2_H1_NO",
          "IQGAP1_F2_NO",
          "CDH1_B1_NO",
          "CGNL1_C3c_NO",
          "EGFR_B2_NO",
          "ACTR3_C1_NO",
          "CTTN_B1_NO",
          "SRGAP3_I2_NO",
          "CTNNA1_A1_NO",
          "ACTN1_B1_NO",
          "CD151_A3_NO",
          "ARHGAP32_C3c_NO",
          "ACTN1_B2_NO",
          "TMOD1_I1_NO",
          "CTNNB1_A1_NO",
          "PRKCD_D3_NO",
          "CTNNB1_A3_NO",
          "SRGAP3_I3_NO",
          "MAPK1_D1_NO",
          "BCAR1_B1_NO",
          "VIM_H1_NO",
          "CTNNA1_A2_NO",
          "DIAP1_B1_NO",
          "CTNNA3_L3_NO",
          "VASP_I1_NO",
          "RAC1_I1_NO",
          "KRIT1_E1_NO",
          "PTPN12_F2_NO",
          "PPP2CA_F1_NO",
          "PTEN_E1_NO",
          "CD151_A1_NO",
          "PKD1_E1_NO",
          "CBLL1_A1_NO",
          "SRC_H2_NO",
          "ABL1_A3_NO",
          "ARHGEF12_L1_NO",
          "CBLL1_A3_NO",
          "DYNC1H1_A2_NO",
          "TIAM1_H1_NO",
          "KEAP1_E1_NO",
          "PTPRT_H2_NO",
          "ERBB2IP_C1_NO",
          "CDH1_B2_NO",
          "SDC1_I1_NO",
          "PLEKHA7_E3_NO",
          "IQGAP1_F3_NO",
          "TRIOBP_H1_NO",
          "CAV1_C2_NO",
          "SDCBP_I2_NO",
          "SORBS1_G3_NO",
          "DNMBP_A2_NO",
          "ACTN4_L2_NO",
          "DNMBP_A3_NO",
          "ABI1_A3_NO",
          "ITGA3_F3_NO",
          "WASF2_H2_NO",
          "PTPRF_G3_NO",
          "NF2_D3_NO",
          "CTNNA1_A3_NO",
          "ARHGAP4_A3_NO",
          "ENAH_B3_NO",
          "ITGA3_F2_NO",
          "PVRL1_I1_NO"
         ],
         "legendgroup": "NO",
         "marker": {
          "color": "#EF553B",
          "symbol": "circle"
         },
         "mode": "markers",
         "name": "NO",
         "orientation": "v",
         "showlegend": true,
         "type": "scatter",
         "x": [
          0.007847679985894097,
          0.016317579481336806,
          0.055472479926215276,
          0.007221221923828125,
          0.0030233595106336805,
          0.19046571519639757,
          0.06383175320095485,
          0.010142432318793403,
          0.0123748779296875,
          0.008107927110460069,
          0.09064610799153645,
          0.009262932671440972,
          0.10916519165039062,
          0.058785332573784724,
          0.08135604858398438,
          0.0033480326334635415,
          0.0032246907552083335,
          0.036165873209635414,
          0.023293389214409724,
          0.11689037746853298,
          0.0283309088812934,
          0.026614718967013888,
          0.008281707763671875,
          0.02618704901801215,
          0.016163296169704862,
          0.006949106852213542,
          0.34197235107421875,
          0.016501956515842013,
          0.026078965928819444,
          0.04840893215603299,
          0.00360107421875,
          0.00299835205078125,
          0.006954193115234375,
          0.5630230373806424,
          0.013106452094184028,
          0.005391014946831597,
          0.16100862291124132,
          0.007030487060546875,
          0.004504733615451389,
          0.32985221015082467,
          0.013317108154296875,
          0.003456539577907986,
          0.017973158094618056,
          0.021010080973307293,
          0.43447240193684894,
          0.046541849772135414,
          0.03801854451497396,
          0.008143107096354166,
          0.003075493706597222,
          0.002197689480251736,
          0.09419335259331597,
          0.004474639892578125,
          0.003912607828776042,
          0.003031836615668403,
          0.024709065755208332,
          0.052239312065972224,
          0.24336200290256077,
          0.004758622911241319,
          0.12200164794921875,
          0.003136105007595486,
          0.007271660698784722,
          0.00614166259765625,
          0.004764133029513889,
          0.0047149658203125,
          0.005295223659939236,
          0.011176639133029513,
          0.030812581380208332,
          0.0038134256998697915,
          0.0018450419108072917,
          0.007754007975260417,
          0.005262162950303819,
          0.0026766459147135415,
          0.024613274468315974,
          0.0201004876030816,
          0.10130945841471355,
          0.02137459648980035,
          0.006913503011067708,
          0.037715911865234375,
          0.021460639105902776,
          0.041842142740885414,
          0.003940158420138889,
          0.004015604654947917,
          0.06414413452148438,
          0.5918468899197049,
          0.006511264377170139,
          0.015616946750217013,
          0.003825293646918403,
          0.019222683376736112,
          0.006173027886284722,
          0.5644645690917969,
          0.06795035468207465,
          0.005746205647786458,
          0.14296510484483507,
          0.14275317721896702,
          0.06751802232530382,
          0.006028493245442708,
          0.03337266710069445,
          0.0184889899359809,
          0.0028707716200086805,
          0.0035565694173177085,
          0.029014163547092013,
          0.008667416042751737,
          0.03631295098198785,
          0.014593336317274306,
          0.3267991807725694,
          0.008280860053168403,
          0.003925323486328125,
          0.008788638644748263,
          0.02263090345594618,
          0.5856306287977431,
          0.20397864447699654,
          0.05595525105794271,
          0.0057830810546875,
          0.0035574171278211805,
          0.05862299601236979,
          0.004760318332248264,
          0.008124881320529513,
          0.09274334377712673,
          0.4612380133734809,
          0.04695171780056424,
          0.7635019090440538,
          0.07004759046766493,
          0.0037409464518229165,
          0.005148145887586806,
          0.468986087375217,
          0.2654796176486545,
          0.005827585856119792,
          0.028360154893663194,
          0.3360748291015625,
          0.016295115152994793,
          0.006598154703776042,
          0.6396348741319444,
          0.005404154459635417,
          0.16352462768554688,
          0.007569207085503472,
          0.018677605523003474,
          0.678290049235026,
          0.013993581136067709,
          0.024326324462890625,
          0.12974972195095485,
          0.001812405056423611,
          0.004209730360243056,
          0.030112796359592013,
          0.002669864230685764,
          0.08577813042534722,
          0.04644817776150174,
          0.004089779324001736,
          0.10993321736653645,
          0.002549065483940972,
          0.014714558919270834,
          0.1460689968532986,
          0.19523451063368055,
          0.018508063422309026,
          0.009936014811197916,
          0.004750993516710069,
          0.0036866929796006945,
          0.003670162624782986,
          0.004661136203342014,
          0.010219150119357638,
          0.00257110595703125,
          0.011352115207248263,
          0.8429027133517795,
          0.5991244845920138,
          0.014479319254557291,
          0.005556742350260417,
          0.002860175238715278,
          0.006973690456814236,
          0.00885009765625,
          0.011156717936197916,
          0.05850643581814236,
          0.005905999077690972,
          0.04121822781032986,
          0.004184722900390625,
          0.018066830105251737,
          0.007942623562282987,
          0.005362616644965278,
          0.027509901258680556,
          0.27333662245008683,
          0.026352352566189237,
          0.41262563069661456,
          0.008783128526475694,
          0.003619723849826389,
          0.022410922580295138,
          0.005251566569010417,
          0.0035722520616319445,
          0.42541207207573783,
          0.011594136555989584,
          0.009382459852430556,
          0.5689625210232205,
          0.020348866780598957,
          0.009919484456380209,
          0.12972301907009548,
          0.20995330810546875,
          0.00351715087890625,
          0.004511515299479167,
          0.01694276597764757,
          0.007289462619357639,
          0.006084442138671875,
          0.06925243801540798,
          0.003245883517795139
         ],
         "xaxis": "x",
         "y": [
          0,
          0,
          0,
          0,
          0,
          0,
          0,
          0,
          0,
          0,
          0,
          0,
          0,
          0,
          0,
          0,
          0,
          0,
          0,
          0,
          0,
          0,
          0,
          0,
          0,
          0,
          0,
          0,
          0,
          0,
          0,
          0,
          0,
          0,
          0,
          0,
          0,
          0,
          0,
          0,
          0,
          0,
          0,
          0,
          0,
          0,
          0,
          0,
          0,
          0,
          0,
          0,
          0,
          0,
          0,
          0,
          0,
          0,
          0,
          0,
          0,
          0,
          0,
          0,
          0,
          0,
          0,
          0,
          0,
          0,
          0,
          0,
          0,
          0,
          0,
          0,
          0,
          0,
          0,
          0,
          0,
          0,
          0,
          0,
          0,
          0,
          0,
          0,
          0,
          0,
          0,
          0,
          0,
          0,
          0,
          0,
          0,
          0,
          0,
          0,
          0,
          0,
          0,
          0,
          0,
          0,
          0,
          0,
          0,
          0,
          0,
          0,
          0,
          0,
          0,
          0,
          0,
          0,
          0,
          0,
          0,
          0,
          0,
          0,
          0,
          0,
          0,
          0,
          0,
          0,
          0,
          0,
          0,
          0,
          0,
          0,
          0,
          0,
          0,
          0,
          0,
          0,
          0,
          0,
          0,
          0,
          0,
          0,
          0,
          0,
          0,
          0,
          0,
          0,
          0,
          0,
          0,
          0,
          0,
          0,
          0,
          0,
          0,
          0,
          0,
          0,
          0,
          0,
          0,
          0,
          0,
          0,
          0,
          0,
          0,
          0,
          0,
          0,
          0,
          0,
          0,
          0,
          0,
          0,
          0,
          0,
          0,
          0,
          0,
          0,
          0,
          0,
          0,
          0,
          0,
          0,
          0,
          0,
          0,
          0
         ],
         "yaxis": "y"
        }
       ],
       "layout": {
        "legend": {
         "title": {
          "text": "stimulus"
         },
         "tracegroupgap": 0
        },
        "margin": {
         "t": 60
        },
        "template": {
         "data": {
          "bar": [
           {
            "error_x": {
             "color": "#2a3f5f"
            },
            "error_y": {
             "color": "#2a3f5f"
            },
            "marker": {
             "line": {
              "color": "#E5ECF6",
              "width": 0.5
             }
            },
            "type": "bar"
           }
          ],
          "barpolar": [
           {
            "marker": {
             "line": {
              "color": "#E5ECF6",
              "width": 0.5
             }
            },
            "type": "barpolar"
           }
          ],
          "carpet": [
           {
            "aaxis": {
             "endlinecolor": "#2a3f5f",
             "gridcolor": "white",
             "linecolor": "white",
             "minorgridcolor": "white",
             "startlinecolor": "#2a3f5f"
            },
            "baxis": {
             "endlinecolor": "#2a3f5f",
             "gridcolor": "white",
             "linecolor": "white",
             "minorgridcolor": "white",
             "startlinecolor": "#2a3f5f"
            },
            "type": "carpet"
           }
          ],
          "choropleth": [
           {
            "colorbar": {
             "outlinewidth": 0,
             "ticks": ""
            },
            "type": "choropleth"
           }
          ],
          "contour": [
           {
            "colorbar": {
             "outlinewidth": 0,
             "ticks": ""
            },
            "colorscale": [
             [
              0,
              "#0d0887"
             ],
             [
              0.1111111111111111,
              "#46039f"
             ],
             [
              0.2222222222222222,
              "#7201a8"
             ],
             [
              0.3333333333333333,
              "#9c179e"
             ],
             [
              0.4444444444444444,
              "#bd3786"
             ],
             [
              0.5555555555555556,
              "#d8576b"
             ],
             [
              0.6666666666666666,
              "#ed7953"
             ],
             [
              0.7777777777777778,
              "#fb9f3a"
             ],
             [
              0.8888888888888888,
              "#fdca26"
             ],
             [
              1,
              "#f0f921"
             ]
            ],
            "type": "contour"
           }
          ],
          "contourcarpet": [
           {
            "colorbar": {
             "outlinewidth": 0,
             "ticks": ""
            },
            "type": "contourcarpet"
           }
          ],
          "heatmap": [
           {
            "colorbar": {
             "outlinewidth": 0,
             "ticks": ""
            },
            "colorscale": [
             [
              0,
              "#0d0887"
             ],
             [
              0.1111111111111111,
              "#46039f"
             ],
             [
              0.2222222222222222,
              "#7201a8"
             ],
             [
              0.3333333333333333,
              "#9c179e"
             ],
             [
              0.4444444444444444,
              "#bd3786"
             ],
             [
              0.5555555555555556,
              "#d8576b"
             ],
             [
              0.6666666666666666,
              "#ed7953"
             ],
             [
              0.7777777777777778,
              "#fb9f3a"
             ],
             [
              0.8888888888888888,
              "#fdca26"
             ],
             [
              1,
              "#f0f921"
             ]
            ],
            "type": "heatmap"
           }
          ],
          "heatmapgl": [
           {
            "colorbar": {
             "outlinewidth": 0,
             "ticks": ""
            },
            "colorscale": [
             [
              0,
              "#0d0887"
             ],
             [
              0.1111111111111111,
              "#46039f"
             ],
             [
              0.2222222222222222,
              "#7201a8"
             ],
             [
              0.3333333333333333,
              "#9c179e"
             ],
             [
              0.4444444444444444,
              "#bd3786"
             ],
             [
              0.5555555555555556,
              "#d8576b"
             ],
             [
              0.6666666666666666,
              "#ed7953"
             ],
             [
              0.7777777777777778,
              "#fb9f3a"
             ],
             [
              0.8888888888888888,
              "#fdca26"
             ],
             [
              1,
              "#f0f921"
             ]
            ],
            "type": "heatmapgl"
           }
          ],
          "histogram": [
           {
            "marker": {
             "colorbar": {
              "outlinewidth": 0,
              "ticks": ""
             }
            },
            "type": "histogram"
           }
          ],
          "histogram2d": [
           {
            "colorbar": {
             "outlinewidth": 0,
             "ticks": ""
            },
            "colorscale": [
             [
              0,
              "#0d0887"
             ],
             [
              0.1111111111111111,
              "#46039f"
             ],
             [
              0.2222222222222222,
              "#7201a8"
             ],
             [
              0.3333333333333333,
              "#9c179e"
             ],
             [
              0.4444444444444444,
              "#bd3786"
             ],
             [
              0.5555555555555556,
              "#d8576b"
             ],
             [
              0.6666666666666666,
              "#ed7953"
             ],
             [
              0.7777777777777778,
              "#fb9f3a"
             ],
             [
              0.8888888888888888,
              "#fdca26"
             ],
             [
              1,
              "#f0f921"
             ]
            ],
            "type": "histogram2d"
           }
          ],
          "histogram2dcontour": [
           {
            "colorbar": {
             "outlinewidth": 0,
             "ticks": ""
            },
            "colorscale": [
             [
              0,
              "#0d0887"
             ],
             [
              0.1111111111111111,
              "#46039f"
             ],
             [
              0.2222222222222222,
              "#7201a8"
             ],
             [
              0.3333333333333333,
              "#9c179e"
             ],
             [
              0.4444444444444444,
              "#bd3786"
             ],
             [
              0.5555555555555556,
              "#d8576b"
             ],
             [
              0.6666666666666666,
              "#ed7953"
             ],
             [
              0.7777777777777778,
              "#fb9f3a"
             ],
             [
              0.8888888888888888,
              "#fdca26"
             ],
             [
              1,
              "#f0f921"
             ]
            ],
            "type": "histogram2dcontour"
           }
          ],
          "mesh3d": [
           {
            "colorbar": {
             "outlinewidth": 0,
             "ticks": ""
            },
            "type": "mesh3d"
           }
          ],
          "parcoords": [
           {
            "line": {
             "colorbar": {
              "outlinewidth": 0,
              "ticks": ""
             }
            },
            "type": "parcoords"
           }
          ],
          "pie": [
           {
            "automargin": true,
            "type": "pie"
           }
          ],
          "scatter": [
           {
            "marker": {
             "colorbar": {
              "outlinewidth": 0,
              "ticks": ""
             }
            },
            "type": "scatter"
           }
          ],
          "scatter3d": [
           {
            "line": {
             "colorbar": {
              "outlinewidth": 0,
              "ticks": ""
             }
            },
            "marker": {
             "colorbar": {
              "outlinewidth": 0,
              "ticks": ""
             }
            },
            "type": "scatter3d"
           }
          ],
          "scattercarpet": [
           {
            "marker": {
             "colorbar": {
              "outlinewidth": 0,
              "ticks": ""
             }
            },
            "type": "scattercarpet"
           }
          ],
          "scattergeo": [
           {
            "marker": {
             "colorbar": {
              "outlinewidth": 0,
              "ticks": ""
             }
            },
            "type": "scattergeo"
           }
          ],
          "scattergl": [
           {
            "marker": {
             "colorbar": {
              "outlinewidth": 0,
              "ticks": ""
             }
            },
            "type": "scattergl"
           }
          ],
          "scattermapbox": [
           {
            "marker": {
             "colorbar": {
              "outlinewidth": 0,
              "ticks": ""
             }
            },
            "type": "scattermapbox"
           }
          ],
          "scatterpolar": [
           {
            "marker": {
             "colorbar": {
              "outlinewidth": 0,
              "ticks": ""
             }
            },
            "type": "scatterpolar"
           }
          ],
          "scatterpolargl": [
           {
            "marker": {
             "colorbar": {
              "outlinewidth": 0,
              "ticks": ""
             }
            },
            "type": "scatterpolargl"
           }
          ],
          "scatterternary": [
           {
            "marker": {
             "colorbar": {
              "outlinewidth": 0,
              "ticks": ""
             }
            },
            "type": "scatterternary"
           }
          ],
          "surface": [
           {
            "colorbar": {
             "outlinewidth": 0,
             "ticks": ""
            },
            "colorscale": [
             [
              0,
              "#0d0887"
             ],
             [
              0.1111111111111111,
              "#46039f"
             ],
             [
              0.2222222222222222,
              "#7201a8"
             ],
             [
              0.3333333333333333,
              "#9c179e"
             ],
             [
              0.4444444444444444,
              "#bd3786"
             ],
             [
              0.5555555555555556,
              "#d8576b"
             ],
             [
              0.6666666666666666,
              "#ed7953"
             ],
             [
              0.7777777777777778,
              "#fb9f3a"
             ],
             [
              0.8888888888888888,
              "#fdca26"
             ],
             [
              1,
              "#f0f921"
             ]
            ],
            "type": "surface"
           }
          ],
          "table": [
           {
            "cells": {
             "fill": {
              "color": "#EBF0F8"
             },
             "line": {
              "color": "white"
             }
            },
            "header": {
             "fill": {
              "color": "#C8D4E3"
             },
             "line": {
              "color": "white"
             }
            },
            "type": "table"
           }
          ]
         },
         "layout": {
          "annotationdefaults": {
           "arrowcolor": "#2a3f5f",
           "arrowhead": 0,
           "arrowwidth": 1
          },
          "autotypenumbers": "strict",
          "coloraxis": {
           "colorbar": {
            "outlinewidth": 0,
            "ticks": ""
           }
          },
          "colorscale": {
           "diverging": [
            [
             0,
             "#8e0152"
            ],
            [
             0.1,
             "#c51b7d"
            ],
            [
             0.2,
             "#de77ae"
            ],
            [
             0.3,
             "#f1b6da"
            ],
            [
             0.4,
             "#fde0ef"
            ],
            [
             0.5,
             "#f7f7f7"
            ],
            [
             0.6,
             "#e6f5d0"
            ],
            [
             0.7,
             "#b8e186"
            ],
            [
             0.8,
             "#7fbc41"
            ],
            [
             0.9,
             "#4d9221"
            ],
            [
             1,
             "#276419"
            ]
           ],
           "sequential": [
            [
             0,
             "#0d0887"
            ],
            [
             0.1111111111111111,
             "#46039f"
            ],
            [
             0.2222222222222222,
             "#7201a8"
            ],
            [
             0.3333333333333333,
             "#9c179e"
            ],
            [
             0.4444444444444444,
             "#bd3786"
            ],
            [
             0.5555555555555556,
             "#d8576b"
            ],
            [
             0.6666666666666666,
             "#ed7953"
            ],
            [
             0.7777777777777778,
             "#fb9f3a"
            ],
            [
             0.8888888888888888,
             "#fdca26"
            ],
            [
             1,
             "#f0f921"
            ]
           ],
           "sequentialminus": [
            [
             0,
             "#0d0887"
            ],
            [
             0.1111111111111111,
             "#46039f"
            ],
            [
             0.2222222222222222,
             "#7201a8"
            ],
            [
             0.3333333333333333,
             "#9c179e"
            ],
            [
             0.4444444444444444,
             "#bd3786"
            ],
            [
             0.5555555555555556,
             "#d8576b"
            ],
            [
             0.6666666666666666,
             "#ed7953"
            ],
            [
             0.7777777777777778,
             "#fb9f3a"
            ],
            [
             0.8888888888888888,
             "#fdca26"
            ],
            [
             1,
             "#f0f921"
            ]
           ]
          },
          "colorway": [
           "#636efa",
           "#EF553B",
           "#00cc96",
           "#ab63fa",
           "#FFA15A",
           "#19d3f3",
           "#FF6692",
           "#B6E880",
           "#FF97FF",
           "#FECB52"
          ],
          "font": {
           "color": "#2a3f5f"
          },
          "geo": {
           "bgcolor": "white",
           "lakecolor": "white",
           "landcolor": "#E5ECF6",
           "showlakes": true,
           "showland": true,
           "subunitcolor": "white"
          },
          "hoverlabel": {
           "align": "left"
          },
          "hovermode": "closest",
          "mapbox": {
           "style": "light"
          },
          "paper_bgcolor": "white",
          "plot_bgcolor": "#E5ECF6",
          "polar": {
           "angularaxis": {
            "gridcolor": "white",
            "linecolor": "white",
            "ticks": ""
           },
           "bgcolor": "#E5ECF6",
           "radialaxis": {
            "gridcolor": "white",
            "linecolor": "white",
            "ticks": ""
           }
          },
          "scene": {
           "xaxis": {
            "backgroundcolor": "#E5ECF6",
            "gridcolor": "white",
            "gridwidth": 2,
            "linecolor": "white",
            "showbackground": true,
            "ticks": "",
            "zerolinecolor": "white"
           },
           "yaxis": {
            "backgroundcolor": "#E5ECF6",
            "gridcolor": "white",
            "gridwidth": 2,
            "linecolor": "white",
            "showbackground": true,
            "ticks": "",
            "zerolinecolor": "white"
           },
           "zaxis": {
            "backgroundcolor": "#E5ECF6",
            "gridcolor": "white",
            "gridwidth": 2,
            "linecolor": "white",
            "showbackground": true,
            "ticks": "",
            "zerolinecolor": "white"
           }
          },
          "shapedefaults": {
           "line": {
            "color": "#2a3f5f"
           }
          },
          "ternary": {
           "aaxis": {
            "gridcolor": "white",
            "linecolor": "white",
            "ticks": ""
           },
           "baxis": {
            "gridcolor": "white",
            "linecolor": "white",
            "ticks": ""
           },
           "bgcolor": "#E5ECF6",
           "caxis": {
            "gridcolor": "white",
            "linecolor": "white",
            "ticks": ""
           }
          },
          "title": {
           "x": 0.05
          },
          "xaxis": {
           "automargin": true,
           "gridcolor": "white",
           "linecolor": "white",
           "ticks": "",
           "title": {
            "standoff": 15
           },
           "zerolinecolor": "white",
           "zerolinewidth": 2
          },
          "yaxis": {
           "automargin": true,
           "gridcolor": "white",
           "linecolor": "white",
           "ticks": "",
           "title": {
            "standoff": 15
           },
           "zerolinecolor": "white",
           "zerolinewidth": 2
          }
         }
        },
        "xaxis": {
         "anchor": "y",
         "domain": [
          0,
          1
         ],
         "title": {
          "text": "proportion_broken"
         }
        },
        "yaxis": {
         "anchor": "x",
         "domain": [
          0,
          1
         ],
         "title": {
          "text": ""
         }
        }
       }
      }
     },
     "metadata": {}
    }
   ],
   "source": [
    "px.scatter(df, x='proportion_broken', y='dummy_y', color='stimulus', hover_name=df.index, labels={'dummy_y': ''})"
   ]
  },
  {
   "cell_type": "code",
   "execution_count": null,
   "metadata": {},
   "outputs": [],
   "source": []
  }
 ]
}